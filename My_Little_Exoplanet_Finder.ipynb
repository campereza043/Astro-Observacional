{
  "cells": [
    {
      "cell_type": "markdown",
      "metadata": {
        "id": "NA4XzDlzl9K-"
      },
      "source": [
        "# Finding exoplanets with Python + Lightkurve"
      ]
    },
    {
      "cell_type": "code",
      "execution_count": 1,
      "metadata": {
        "colab": {
          "base_uri": "https://localhost:8080/"
        },
        "collapsed": true,
        "id": "KLjoZ6Vrw2jL",
        "outputId": "204b861a-7e3b-4814-877c-983966f868fb"
      },
      "outputs": [
        {
          "name": "stdout",
          "output_type": "stream",
          "text": [
            "Defaulting to user installation because normal site-packages is not writeable\n",
            "Collecting lightkurve\n",
            "  Downloading lightkurve-2.5.1-py3-none-any.whl.metadata (6.3 kB)\n",
            "Requirement already satisfied: astropy>=5.0 in c:\\users\\perez\\appdata\\local\\packages\\pythonsoftwarefoundation.python.3.12_qbz5n2kfra8p0\\localcache\\local-packages\\python312\\site-packages (from lightkurve) (7.1.0)\n",
            "Collecting astroquery>=0.3.10 (from lightkurve)\n",
            "  Downloading astroquery-0.4.10-py3-none-any.whl.metadata (6.3 kB)\n",
            "Collecting beautifulsoup4>=4.6.0 (from lightkurve)\n",
            "  Downloading beautifulsoup4-4.13.5-py3-none-any.whl.metadata (3.8 kB)\n",
            "Collecting bokeh>=2.3.2 (from lightkurve)\n",
            "  Downloading bokeh-3.8.0-py3-none-any.whl.metadata (10 kB)\n",
            "Collecting fbpca>=1.0 (from lightkurve)\n",
            "  Downloading fbpca-1.0.tar.gz (11 kB)\n",
            "  Installing build dependencies: started\n",
            "  Installing build dependencies: finished with status 'done'\n",
            "  Getting requirements to build wheel: started\n",
            "  Getting requirements to build wheel: finished with status 'done'\n",
            "  Preparing metadata (pyproject.toml): started\n",
            "  Preparing metadata (pyproject.toml): finished with status 'done'\n",
            "Requirement already satisfied: matplotlib>=3.1 in c:\\users\\perez\\appdata\\local\\packages\\pythonsoftwarefoundation.python.3.12_qbz5n2kfra8p0\\localcache\\local-packages\\python312\\site-packages (from lightkurve) (3.10.6)\n",
            "Collecting memoization>=0.3.1 (from lightkurve)\n",
            "  Downloading memoization-0.4.0.tar.gz (41 kB)\n",
            "  Installing build dependencies: started\n",
            "  Installing build dependencies: finished with status 'done'\n",
            "  Getting requirements to build wheel: started\n",
            "  Getting requirements to build wheel: finished with status 'done'\n",
            "  Preparing metadata (pyproject.toml): started\n",
            "  Preparing metadata (pyproject.toml): finished with status 'done'\n",
            "Requirement already satisfied: numpy>=1.26 in c:\\users\\perez\\appdata\\local\\packages\\pythonsoftwarefoundation.python.3.12_qbz5n2kfra8p0\\localcache\\local-packages\\python312\\site-packages (from lightkurve) (2.3.2)\n",
            "Requirement already satisfied: pandas>=1.3.6 in c:\\users\\perez\\appdata\\local\\packages\\pythonsoftwarefoundation.python.3.12_qbz5n2kfra8p0\\localcache\\local-packages\\python312\\site-packages (from lightkurve) (2.3.2)\n",
            "Collecting patsy>=0.5.0 (from lightkurve)\n",
            "  Downloading patsy-1.0.1-py2.py3-none-any.whl.metadata (3.3 kB)\n",
            "Requirement already satisfied: requests>=2.22.0 in c:\\users\\perez\\appdata\\local\\packages\\pythonsoftwarefoundation.python.3.12_qbz5n2kfra8p0\\localcache\\local-packages\\python312\\site-packages (from lightkurve) (2.32.5)\n",
            "Collecting s3fs>=2024.6.1 (from lightkurve)\n",
            "  Downloading s3fs-2025.9.0-py3-none-any.whl.metadata (1.4 kB)\n",
            "Collecting scikit-learn>=0.24.0 (from lightkurve)\n",
            "  Downloading scikit_learn-1.7.1-cp312-cp312-win_amd64.whl.metadata (11 kB)\n",
            "Requirement already satisfied: scipy>=1.7 in c:\\users\\perez\\appdata\\local\\packages\\pythonsoftwarefoundation.python.3.12_qbz5n2kfra8p0\\localcache\\local-packages\\python312\\site-packages (from lightkurve) (1.16.1)\n",
            "Collecting tqdm>=4.25.0 (from lightkurve)\n",
            "  Downloading tqdm-4.67.1-py3-none-any.whl.metadata (57 kB)\n",
            "Collecting uncertainties>=3.1.4 (from lightkurve)\n",
            "  Downloading uncertainties-3.2.3-py3-none-any.whl.metadata (7.0 kB)\n",
            "Requirement already satisfied: urllib3>=1.23 in c:\\users\\perez\\appdata\\local\\packages\\pythonsoftwarefoundation.python.3.12_qbz5n2kfra8p0\\localcache\\local-packages\\python312\\site-packages (from lightkurve) (2.5.0)\n",
            "Requirement already satisfied: pyerfa>=2.0.1.1 in c:\\users\\perez\\appdata\\local\\packages\\pythonsoftwarefoundation.python.3.12_qbz5n2kfra8p0\\localcache\\local-packages\\python312\\site-packages (from astropy>=5.0->lightkurve) (2.0.1.5)\n",
            "Requirement already satisfied: astropy-iers-data>=0.2025.4.28.0.37.27 in c:\\users\\perez\\appdata\\local\\packages\\pythonsoftwarefoundation.python.3.12_qbz5n2kfra8p0\\localcache\\local-packages\\python312\\site-packages (from astropy>=5.0->lightkurve) (0.2025.9.1.0.42.11)\n",
            "Requirement already satisfied: PyYAML>=6.0.0 in c:\\users\\perez\\appdata\\local\\packages\\pythonsoftwarefoundation.python.3.12_qbz5n2kfra8p0\\localcache\\local-packages\\python312\\site-packages (from astropy>=5.0->lightkurve) (6.0.2)\n",
            "Requirement already satisfied: packaging>=22.0.0 in c:\\users\\perez\\appdata\\local\\packages\\pythonsoftwarefoundation.python.3.12_qbz5n2kfra8p0\\localcache\\local-packages\\python312\\site-packages (from astropy>=5.0->lightkurve) (25.0)\n",
            "Collecting html5lib>=0.999 (from astroquery>=0.3.10->lightkurve)\n",
            "  Downloading html5lib-1.1-py2.py3-none-any.whl.metadata (16 kB)\n",
            "Collecting keyring>=15.0 (from astroquery>=0.3.10->lightkurve)\n",
            "  Downloading keyring-25.6.0-py3-none-any.whl.metadata (20 kB)\n",
            "Collecting pyvo>=1.5 (from astroquery>=0.3.10->lightkurve)\n",
            "  Downloading pyvo-1.7-py3-none-any.whl.metadata (4.7 kB)\n",
            "Collecting soupsieve>1.2 (from beautifulsoup4>=4.6.0->lightkurve)\n",
            "  Downloading soupsieve-2.8-py3-none-any.whl.metadata (4.6 kB)\n",
            "Collecting typing-extensions>=4.0.0 (from beautifulsoup4>=4.6.0->lightkurve)\n",
            "  Downloading typing_extensions-4.15.0-py3-none-any.whl.metadata (3.3 kB)\n",
            "Collecting Jinja2>=2.9 (from bokeh>=2.3.2->lightkurve)\n",
            "  Downloading jinja2-3.1.6-py3-none-any.whl.metadata (2.9 kB)\n",
            "Requirement already satisfied: contourpy>=1.2 in c:\\users\\perez\\appdata\\local\\packages\\pythonsoftwarefoundation.python.3.12_qbz5n2kfra8p0\\localcache\\local-packages\\python312\\site-packages (from bokeh>=2.3.2->lightkurve) (1.3.3)\n",
            "Collecting narwhals>=1.13 (from bokeh>=2.3.2->lightkurve)\n",
            "  Downloading narwhals-2.4.0-py3-none-any.whl.metadata (11 kB)\n",
            "Requirement already satisfied: pillow>=7.1.0 in c:\\users\\perez\\appdata\\local\\packages\\pythonsoftwarefoundation.python.3.12_qbz5n2kfra8p0\\localcache\\local-packages\\python312\\site-packages (from bokeh>=2.3.2->lightkurve) (11.3.0)\n",
            "Requirement already satisfied: tornado>=6.2 in c:\\users\\perez\\appdata\\local\\packages\\pythonsoftwarefoundation.python.3.12_qbz5n2kfra8p0\\localcache\\local-packages\\python312\\site-packages (from bokeh>=2.3.2->lightkurve) (6.5.2)\n",
            "Collecting xyzservices>=2021.09.1 (from bokeh>=2.3.2->lightkurve)\n",
            "  Downloading xyzservices-2025.4.0-py3-none-any.whl.metadata (4.3 kB)\n",
            "Requirement already satisfied: cycler>=0.10 in c:\\users\\perez\\appdata\\local\\packages\\pythonsoftwarefoundation.python.3.12_qbz5n2kfra8p0\\localcache\\local-packages\\python312\\site-packages (from matplotlib>=3.1->lightkurve) (0.12.1)\n",
            "Requirement already satisfied: fonttools>=4.22.0 in c:\\users\\perez\\appdata\\local\\packages\\pythonsoftwarefoundation.python.3.12_qbz5n2kfra8p0\\localcache\\local-packages\\python312\\site-packages (from matplotlib>=3.1->lightkurve) (4.59.2)\n",
            "Requirement already satisfied: kiwisolver>=1.3.1 in c:\\users\\perez\\appdata\\local\\packages\\pythonsoftwarefoundation.python.3.12_qbz5n2kfra8p0\\localcache\\local-packages\\python312\\site-packages (from matplotlib>=3.1->lightkurve) (1.4.9)\n",
            "Requirement already satisfied: pyparsing>=2.3.1 in c:\\users\\perez\\appdata\\local\\packages\\pythonsoftwarefoundation.python.3.12_qbz5n2kfra8p0\\localcache\\local-packages\\python312\\site-packages (from matplotlib>=3.1->lightkurve) (3.2.3)\n",
            "Requirement already satisfied: python-dateutil>=2.7 in c:\\users\\perez\\appdata\\local\\packages\\pythonsoftwarefoundation.python.3.12_qbz5n2kfra8p0\\localcache\\local-packages\\python312\\site-packages (from matplotlib>=3.1->lightkurve) (2.9.0.post0)\n",
            "Requirement already satisfied: pytz>=2020.1 in c:\\users\\perez\\appdata\\local\\packages\\pythonsoftwarefoundation.python.3.12_qbz5n2kfra8p0\\localcache\\local-packages\\python312\\site-packages (from pandas>=1.3.6->lightkurve) (2025.2)\n",
            "Requirement already satisfied: tzdata>=2022.7 in c:\\users\\perez\\appdata\\local\\packages\\pythonsoftwarefoundation.python.3.12_qbz5n2kfra8p0\\localcache\\local-packages\\python312\\site-packages (from pandas>=1.3.6->lightkurve) (2025.2)\n",
            "Requirement already satisfied: charset_normalizer<4,>=2 in c:\\users\\perez\\appdata\\local\\packages\\pythonsoftwarefoundation.python.3.12_qbz5n2kfra8p0\\localcache\\local-packages\\python312\\site-packages (from requests>=2.22.0->lightkurve) (3.4.3)\n",
            "Requirement already satisfied: idna<4,>=2.5 in c:\\users\\perez\\appdata\\local\\packages\\pythonsoftwarefoundation.python.3.12_qbz5n2kfra8p0\\localcache\\local-packages\\python312\\site-packages (from requests>=2.22.0->lightkurve) (3.10)\n",
            "Requirement already satisfied: certifi>=2017.4.17 in c:\\users\\perez\\appdata\\local\\packages\\pythonsoftwarefoundation.python.3.12_qbz5n2kfra8p0\\localcache\\local-packages\\python312\\site-packages (from requests>=2.22.0->lightkurve) (2025.8.3)\n",
            "Collecting aiobotocore<3.0.0,>=2.5.4 (from s3fs>=2024.6.1->lightkurve)\n",
            "  Downloading aiobotocore-2.24.2-py3-none-any.whl.metadata (25 kB)\n",
            "Collecting fsspec==2025.9.0 (from s3fs>=2024.6.1->lightkurve)\n",
            "  Downloading fsspec-2025.9.0-py3-none-any.whl.metadata (10 kB)\n",
            "Collecting aiohttp!=4.0.0a0,!=4.0.0a1 (from s3fs>=2024.6.1->lightkurve)\n",
            "  Downloading aiohttp-3.12.15-cp312-cp312-win_amd64.whl.metadata (7.9 kB)\n",
            "Collecting joblib>=1.2.0 (from scikit-learn>=0.24.0->lightkurve)\n",
            "  Downloading joblib-1.5.2-py3-none-any.whl.metadata (5.6 kB)\n",
            "Collecting threadpoolctl>=3.1.0 (from scikit-learn>=0.24.0->lightkurve)\n",
            "  Downloading threadpoolctl-3.6.0-py3-none-any.whl.metadata (13 kB)\n",
            "Requirement already satisfied: colorama in c:\\users\\perez\\appdata\\local\\packages\\pythonsoftwarefoundation.python.3.12_qbz5n2kfra8p0\\localcache\\local-packages\\python312\\site-packages (from tqdm>=4.25.0->lightkurve) (0.4.6)\n",
            "Collecting aioitertools<1.0.0,>=0.5.1 (from aiobotocore<3.0.0,>=2.5.4->s3fs>=2024.6.1->lightkurve)\n",
            "  Downloading aioitertools-0.12.0-py3-none-any.whl.metadata (3.8 kB)\n",
            "Collecting botocore<1.40.19,>=1.40.15 (from aiobotocore<3.0.0,>=2.5.4->s3fs>=2024.6.1->lightkurve)\n",
            "  Downloading botocore-1.40.18-py3-none-any.whl.metadata (5.7 kB)\n",
            "Collecting jmespath<2.0.0,>=0.7.1 (from aiobotocore<3.0.0,>=2.5.4->s3fs>=2024.6.1->lightkurve)\n",
            "  Downloading jmespath-1.0.1-py3-none-any.whl.metadata (7.6 kB)\n",
            "Collecting multidict<7.0.0,>=6.0.0 (from aiobotocore<3.0.0,>=2.5.4->s3fs>=2024.6.1->lightkurve)\n",
            "  Downloading multidict-6.6.4-cp312-cp312-win_amd64.whl.metadata (5.4 kB)\n",
            "Collecting wrapt<2.0.0,>=1.10.10 (from aiobotocore<3.0.0,>=2.5.4->s3fs>=2024.6.1->lightkurve)\n",
            "  Downloading wrapt-1.17.3-cp312-cp312-win_amd64.whl.metadata (6.5 kB)\n",
            "Collecting aiohappyeyeballs>=2.5.0 (from aiohttp!=4.0.0a0,!=4.0.0a1->s3fs>=2024.6.1->lightkurve)\n",
            "  Downloading aiohappyeyeballs-2.6.1-py3-none-any.whl.metadata (5.9 kB)\n",
            "Collecting aiosignal>=1.4.0 (from aiohttp!=4.0.0a0,!=4.0.0a1->s3fs>=2024.6.1->lightkurve)\n",
            "  Downloading aiosignal-1.4.0-py3-none-any.whl.metadata (3.7 kB)\n",
            "Collecting attrs>=17.3.0 (from aiohttp!=4.0.0a0,!=4.0.0a1->s3fs>=2024.6.1->lightkurve)\n",
            "  Downloading attrs-25.3.0-py3-none-any.whl.metadata (10 kB)\n",
            "Collecting frozenlist>=1.1.1 (from aiohttp!=4.0.0a0,!=4.0.0a1->s3fs>=2024.6.1->lightkurve)\n",
            "  Downloading frozenlist-1.7.0-cp312-cp312-win_amd64.whl.metadata (19 kB)\n",
            "Collecting propcache>=0.2.0 (from aiohttp!=4.0.0a0,!=4.0.0a1->s3fs>=2024.6.1->lightkurve)\n",
            "  Downloading propcache-0.3.2-cp312-cp312-win_amd64.whl.metadata (12 kB)\n",
            "Collecting yarl<2.0,>=1.17.0 (from aiohttp!=4.0.0a0,!=4.0.0a1->s3fs>=2024.6.1->lightkurve)\n",
            "  Downloading yarl-1.20.1-cp312-cp312-win_amd64.whl.metadata (76 kB)\n",
            "Requirement already satisfied: six>=1.9 in c:\\users\\perez\\appdata\\local\\packages\\pythonsoftwarefoundation.python.3.12_qbz5n2kfra8p0\\localcache\\local-packages\\python312\\site-packages (from html5lib>=0.999->astroquery>=0.3.10->lightkurve) (1.17.0)\n",
            "Collecting webencodings (from html5lib>=0.999->astroquery>=0.3.10->lightkurve)\n",
            "  Downloading webencodings-0.5.1-py2.py3-none-any.whl.metadata (2.1 kB)\n",
            "Collecting MarkupSafe>=2.0 (from Jinja2>=2.9->bokeh>=2.3.2->lightkurve)\n",
            "  Downloading MarkupSafe-3.0.2-cp312-cp312-win_amd64.whl.metadata (4.1 kB)\n",
            "Collecting pywin32-ctypes>=0.2.0 (from keyring>=15.0->astroquery>=0.3.10->lightkurve)\n",
            "  Downloading pywin32_ctypes-0.2.3-py3-none-any.whl.metadata (3.9 kB)\n",
            "Collecting jaraco.classes (from keyring>=15.0->astroquery>=0.3.10->lightkurve)\n",
            "  Downloading jaraco.classes-3.4.0-py3-none-any.whl.metadata (2.6 kB)\n",
            "Collecting jaraco.functools (from keyring>=15.0->astroquery>=0.3.10->lightkurve)\n",
            "  Downloading jaraco_functools-4.3.0-py3-none-any.whl.metadata (2.9 kB)\n",
            "Collecting jaraco.context (from keyring>=15.0->astroquery>=0.3.10->lightkurve)\n",
            "  Downloading jaraco.context-6.0.1-py3-none-any.whl.metadata (4.1 kB)\n",
            "Collecting more-itertools (from jaraco.classes->keyring>=15.0->astroquery>=0.3.10->lightkurve)\n",
            "  Downloading more_itertools-10.8.0-py3-none-any.whl.metadata (39 kB)\n",
            "Downloading lightkurve-2.5.1-py3-none-any.whl (256 kB)\n",
            "Downloading astroquery-0.4.10-py3-none-any.whl (11.1 MB)\n",
            "   ---------------------------------------- 0.0/11.1 MB ? eta -:--:--\n",
            "    --------------------------------------- 0.3/11.1 MB ? eta -:--:--\n",
            "   -- ------------------------------------- 0.8/11.1 MB 2.6 MB/s eta 0:00:05\n",
            "   ----- ---------------------------------- 1.6/11.1 MB 2.7 MB/s eta 0:00:04\n",
            "   ------- -------------------------------- 2.1/11.1 MB 2.9 MB/s eta 0:00:04\n",
            "   --------- ------------------------------ 2.6/11.1 MB 2.8 MB/s eta 0:00:03\n",
            "   ----------- ---------------------------- 3.1/11.1 MB 2.7 MB/s eta 0:00:03\n",
            "   ------------- -------------------------- 3.7/11.1 MB 2.7 MB/s eta 0:00:03\n",
            "   --------------- ------------------------ 4.2/11.1 MB 2.6 MB/s eta 0:00:03\n",
            "   ---------------- ----------------------- 4.7/11.1 MB 2.7 MB/s eta 0:00:03\n",
            "   ------------------ --------------------- 5.2/11.1 MB 2.6 MB/s eta 0:00:03\n",
            "   ------------------- -------------------- 5.5/11.1 MB 2.5 MB/s eta 0:00:03\n",
            "   --------------------- ------------------ 6.0/11.1 MB 2.5 MB/s eta 0:00:03\n",
            "   ---------------------- ----------------- 6.3/11.1 MB 2.4 MB/s eta 0:00:03\n",
            "   ----------------------- ---------------- 6.6/11.1 MB 2.3 MB/s eta 0:00:02\n",
            "   -------------------------- ------------- 7.3/11.1 MB 2.3 MB/s eta 0:00:02\n",
            "   --------------------------- ------------ 7.6/11.1 MB 2.3 MB/s eta 0:00:02\n",
            "   ----------------------------- ---------- 8.1/11.1 MB 2.3 MB/s eta 0:00:02\n",
            "   -------------------------------- ------- 8.9/11.1 MB 2.4 MB/s eta 0:00:01\n",
            "   --------------------------------- ------ 9.4/11.1 MB 2.4 MB/s eta 0:00:01\n",
            "   ------------------------------------ --- 10.2/11.1 MB 2.5 MB/s eta 0:00:01\n",
            "   ------------------------------------- -- 10.5/11.1 MB 2.5 MB/s eta 0:00:01\n",
            "   ---------------------------------------  11.0/11.1 MB 2.5 MB/s eta 0:00:01\n",
            "   ---------------------------------------  11.0/11.1 MB 2.5 MB/s eta 0:00:01\n",
            "   ---------------------------------------  11.0/11.1 MB 2.5 MB/s eta 0:00:01\n",
            "   ---------------------------------------  11.0/11.1 MB 2.5 MB/s eta 0:00:01\n",
            "   ---------------------------------------  11.0/11.1 MB 2.5 MB/s eta 0:00:01\n",
            "   ---------------------------------------- 11.1/11.1 MB 2.0 MB/s eta 0:00:00\n",
            "Downloading beautifulsoup4-4.13.5-py3-none-any.whl (105 kB)\n",
            "Downloading bokeh-3.8.0-py3-none-any.whl (7.2 MB)\n",
            "   ---------------------------------------- 0.0/7.2 MB ? eta -:--:--\n",
            "   ---- ----------------------------------- 0.8/7.2 MB 4.8 MB/s eta 0:00:02\n",
            "   ------- -------------------------------- 1.3/7.2 MB 4.0 MB/s eta 0:00:02\n",
            "   ---------- ----------------------------- 1.8/7.2 MB 3.7 MB/s eta 0:00:02\n",
            "   ------------- -------------------------- 2.4/7.2 MB 3.1 MB/s eta 0:00:02\n",
            "   -------------- ------------------------- 2.6/7.2 MB 3.0 MB/s eta 0:00:02\n",
            "   ----------------- ---------------------- 3.1/7.2 MB 2.6 MB/s eta 0:00:02\n",
            "   --------------------- ------------------ 3.9/7.2 MB 2.7 MB/s eta 0:00:02\n",
            "   ------------------------ --------------- 4.5/7.2 MB 2.7 MB/s eta 0:00:02\n",
            "   --------------------------- ------------ 5.0/7.2 MB 2.6 MB/s eta 0:00:01\n",
            "   ------------------------------ --------- 5.5/7.2 MB 2.7 MB/s eta 0:00:01\n",
            "   ---------------------------------- ----- 6.3/7.2 MB 2.7 MB/s eta 0:00:01\n",
            "   ------------------------------------ --- 6.6/7.2 MB 2.6 MB/s eta 0:00:01\n",
            "   ------------------------------------- -- 6.8/7.2 MB 2.6 MB/s eta 0:00:01\n",
            "   ---------------------------------------- 7.2/7.2 MB 2.5 MB/s eta 0:00:00\n",
            "Downloading patsy-1.0.1-py2.py3-none-any.whl (232 kB)\n",
            "Downloading s3fs-2025.9.0-py3-none-any.whl (30 kB)\n",
            "Downloading fsspec-2025.9.0-py3-none-any.whl (199 kB)\n",
            "Downloading scikit_learn-1.7.1-cp312-cp312-win_amd64.whl (8.7 MB)\n",
            "   ---------------------------------------- 0.0/8.7 MB ? eta -:--:--\n",
            "   ---------------------------------------- 0.0/8.7 MB ? eta -:--:--\n",
            "   -- ------------------------------------- 0.5/8.7 MB 3.4 MB/s eta 0:00:03\n",
            "   ---- ----------------------------------- 1.0/8.7 MB 2.2 MB/s eta 0:00:04\n",
            "   -------- ------------------------------- 1.8/8.7 MB 2.6 MB/s eta 0:00:03\n",
            "   ---------- ----------------------------- 2.4/8.7 MB 2.6 MB/s eta 0:00:03\n",
            "   ------------ --------------------------- 2.6/8.7 MB 2.4 MB/s eta 0:00:03\n",
            "   -------------- ------------------------- 3.1/8.7 MB 2.5 MB/s eta 0:00:03\n",
            "   ---------------- ----------------------- 3.7/8.7 MB 2.5 MB/s eta 0:00:03\n",
            "   ------------------- -------------------- 4.2/8.7 MB 2.4 MB/s eta 0:00:02\n",
            "   -------------------- ------------------- 4.5/8.7 MB 2.3 MB/s eta 0:00:02\n",
            "   --------------------- ------------------ 4.7/8.7 MB 2.2 MB/s eta 0:00:02\n",
            "   ------------------------ --------------- 5.2/8.7 MB 2.2 MB/s eta 0:00:02\n",
            "   ------------------------- -------------- 5.5/8.7 MB 2.2 MB/s eta 0:00:02\n",
            "   --------------------------- ------------ 6.0/8.7 MB 2.1 MB/s eta 0:00:02\n",
            "   ------------------------------ --------- 6.6/8.7 MB 2.2 MB/s eta 0:00:02\n",
            "   -------------------------------- ------- 7.1/8.7 MB 2.1 MB/s eta 0:00:01\n",
            "   --------------------------------- ------ 7.3/8.7 MB 2.1 MB/s eta 0:00:01\n",
            "   ------------------------------------ --- 7.9/8.7 MB 2.2 MB/s eta 0:00:01\n",
            "   ------------------------------------ --- 7.9/8.7 MB 2.2 MB/s eta 0:00:01\n",
            "   -------------------------------------- - 8.4/8.7 MB 2.0 MB/s eta 0:00:01\n",
            "   ---------------------------------------- 8.7/8.7 MB 2.1 MB/s eta 0:00:00\n",
            "Downloading tqdm-4.67.1-py3-none-any.whl (78 kB)\n",
            "Downloading uncertainties-3.2.3-py3-none-any.whl (60 kB)\n",
            "Downloading aiobotocore-2.24.2-py3-none-any.whl (85 kB)\n",
            "Downloading aiohttp-3.12.15-cp312-cp312-win_amd64.whl (450 kB)\n",
            "Downloading html5lib-1.1-py2.py3-none-any.whl (112 kB)\n",
            "Downloading jinja2-3.1.6-py3-none-any.whl (134 kB)\n",
            "Downloading joblib-1.5.2-py3-none-any.whl (308 kB)\n",
            "Downloading keyring-25.6.0-py3-none-any.whl (39 kB)\n",
            "Downloading narwhals-2.4.0-py3-none-any.whl (406 kB)\n",
            "Downloading pyvo-1.7-py3-none-any.whl (1.1 MB)\n",
            "   ---------------------------------------- 0.0/1.1 MB ? eta -:--:--\n",
            "   --------- ------------------------------ 0.3/1.1 MB ? eta -:--:--\n",
            "   ----------------------------- ---------- 0.8/1.1 MB 1.9 MB/s eta 0:00:01\n",
            "   ---------------------------------------- 1.1/1.1 MB 1.9 MB/s eta 0:00:00\n",
            "Downloading soupsieve-2.8-py3-none-any.whl (36 kB)\n",
            "Downloading threadpoolctl-3.6.0-py3-none-any.whl (18 kB)\n",
            "Downloading typing_extensions-4.15.0-py3-none-any.whl (44 kB)\n",
            "Downloading xyzservices-2025.4.0-py3-none-any.whl (90 kB)\n",
            "Downloading aiohappyeyeballs-2.6.1-py3-none-any.whl (15 kB)\n",
            "Downloading aioitertools-0.12.0-py3-none-any.whl (24 kB)\n",
            "Downloading aiosignal-1.4.0-py3-none-any.whl (7.5 kB)\n",
            "Downloading attrs-25.3.0-py3-none-any.whl (63 kB)\n",
            "Downloading botocore-1.40.18-py3-none-any.whl (14.0 MB)\n",
            "   ---------------------------------------- 0.0/14.0 MB ? eta -:--:--\n",
            "    --------------------------------------- 0.3/14.0 MB ? eta -:--:--\n",
            "   - -------------------------------------- 0.5/14.0 MB 1.9 MB/s eta 0:00:08\n",
            "   -- ------------------------------------- 0.8/14.0 MB 1.5 MB/s eta 0:00:09\n",
            "   --- ------------------------------------ 1.3/14.0 MB 1.5 MB/s eta 0:00:09\n",
            "   ---- ----------------------------------- 1.6/14.0 MB 1.5 MB/s eta 0:00:09\n",
            "   ----- ---------------------------------- 1.8/14.0 MB 1.5 MB/s eta 0:00:08\n",
            "   ------ --------------------------------- 2.4/14.0 MB 1.6 MB/s eta 0:00:08\n",
            "   ------- -------------------------------- 2.6/14.0 MB 1.6 MB/s eta 0:00:08\n",
            "   -------- ------------------------------- 3.1/14.0 MB 1.7 MB/s eta 0:00:07\n",
            "   --------- ------------------------------ 3.4/14.0 MB 1.6 MB/s eta 0:00:07\n",
            "   ---------- ----------------------------- 3.7/14.0 MB 1.6 MB/s eta 0:00:07\n",
            "   ----------- ---------------------------- 3.9/14.0 MB 1.6 MB/s eta 0:00:07\n",
            "   ------------ --------------------------- 4.5/14.0 MB 1.6 MB/s eta 0:00:06\n",
            "   -------------- ------------------------- 5.0/14.0 MB 1.7 MB/s eta 0:00:06\n",
            "   -------------- ------------------------- 5.2/14.0 MB 1.7 MB/s eta 0:00:06\n",
            "   --------------- ------------------------ 5.5/14.0 MB 1.7 MB/s eta 0:00:06\n",
            "   ---------------- ----------------------- 5.8/14.0 MB 1.7 MB/s eta 0:00:05\n",
            "   ----------------- ---------------------- 6.0/14.0 MB 1.6 MB/s eta 0:00:05\n",
            "   ------------------ --------------------- 6.6/14.0 MB 1.7 MB/s eta 0:00:05\n",
            "   ------------------- -------------------- 6.8/14.0 MB 1.7 MB/s eta 0:00:05\n",
            "   -------------------- ------------------- 7.3/14.0 MB 1.6 MB/s eta 0:00:05\n",
            "   --------------------- ------------------ 7.6/14.0 MB 1.6 MB/s eta 0:00:04\n",
            "   ---------------------- ----------------- 7.9/14.0 MB 1.6 MB/s eta 0:00:04\n",
            "   ----------------------- ---------------- 8.4/14.0 MB 1.7 MB/s eta 0:00:04\n",
            "   ------------------------- -------------- 8.9/14.0 MB 1.7 MB/s eta 0:00:04\n",
            "   -------------------------- ------------- 9.4/14.0 MB 1.7 MB/s eta 0:00:03\n",
            "   --------------------------- ------------ 9.7/14.0 MB 1.7 MB/s eta 0:00:03\n",
            "   ---------------------------- ----------- 10.0/14.0 MB 1.7 MB/s eta 0:00:03\n",
            "   ----------------------------- ---------- 10.2/14.0 MB 1.7 MB/s eta 0:00:03\n",
            "   ----------------------------- ---------- 10.5/14.0 MB 1.7 MB/s eta 0:00:03\n",
            "   ------------------------------- -------- 11.0/14.0 MB 1.7 MB/s eta 0:00:02\n",
            "   -------------------------------- ------- 11.3/14.0 MB 1.7 MB/s eta 0:00:02\n",
            "   -------------------------------- ------- 11.5/14.0 MB 1.7 MB/s eta 0:00:02\n",
            "   ---------------------------------- ----- 12.1/14.0 MB 1.7 MB/s eta 0:00:02\n",
            "   ----------------------------------- ---- 12.3/14.0 MB 1.7 MB/s eta 0:00:02\n",
            "   ----------------------------------- ---- 12.6/14.0 MB 1.7 MB/s eta 0:00:01\n",
            "   ------------------------------------- -- 13.1/14.0 MB 1.7 MB/s eta 0:00:01\n",
            "   -------------------------------------- - 13.4/14.0 MB 1.7 MB/s eta 0:00:01\n",
            "   -------------------------------------- - 13.6/14.0 MB 1.7 MB/s eta 0:00:01\n",
            "   ---------------------------------------- 14.0/14.0 MB 1.6 MB/s eta 0:00:00\n",
            "Downloading frozenlist-1.7.0-cp312-cp312-win_amd64.whl (43 kB)\n",
            "Downloading jmespath-1.0.1-py3-none-any.whl (20 kB)\n",
            "Downloading MarkupSafe-3.0.2-cp312-cp312-win_amd64.whl (15 kB)\n",
            "Downloading multidict-6.6.4-cp312-cp312-win_amd64.whl (46 kB)\n",
            "Downloading propcache-0.3.2-cp312-cp312-win_amd64.whl (41 kB)\n",
            "Downloading pywin32_ctypes-0.2.3-py3-none-any.whl (30 kB)\n",
            "Downloading wrapt-1.17.3-cp312-cp312-win_amd64.whl (38 kB)\n",
            "Downloading yarl-1.20.1-cp312-cp312-win_amd64.whl (86 kB)\n",
            "Downloading jaraco.classes-3.4.0-py3-none-any.whl (6.8 kB)\n",
            "Downloading jaraco.context-6.0.1-py3-none-any.whl (6.8 kB)\n",
            "Downloading jaraco_functools-4.3.0-py3-none-any.whl (10 kB)\n",
            "Downloading webencodings-0.5.1-py2.py3-none-any.whl (11 kB)\n",
            "Downloading more_itertools-10.8.0-py3-none-any.whl (69 kB)\n",
            "Building wheels for collected packages: fbpca, memoization\n",
            "  Building wheel for fbpca (pyproject.toml): started\n",
            "  Building wheel for fbpca (pyproject.toml): finished with status 'done'\n",
            "  Created wheel for fbpca: filename=fbpca-1.0-py3-none-any.whl size=11446 sha256=86ef83ccff6ad245d4b24f45ee699f13a0020f2854d6dc0616625c4d055f2ed3\n",
            "  Stored in directory: c:\\users\\perez\\appdata\\local\\pip\\cache\\wheels\\04\\15\\cd\\2f622795b09e83471a3be5d2581cd9cf96a6ec7aa78e8deffe\n",
            "  Building wheel for memoization (pyproject.toml): started\n",
            "  Building wheel for memoization (pyproject.toml): finished with status 'done'\n",
            "  Created wheel for memoization: filename=memoization-0.4.0-py3-none-any.whl size=50602 sha256=4b687c4f4205b6e7e5a99c2c8f5cbe977750b70eb569d07c7f1994aa5dbc0505\n",
            "  Stored in directory: c:\\users\\perez\\appdata\\local\\pip\\cache\\wheels\\26\\35\\02\\90618fc7cbf03a335f3cacd59d32b35930bf5a57f3c0d0814c\n",
            "Successfully built fbpca memoization\n",
            "Installing collected packages: webencodings, fbpca, xyzservices, wrapt, uncertainties, typing-extensions, tqdm, threadpoolctl, soupsieve, pywin32-ctypes, propcache, patsy, narwhals, multidict, more-itertools, memoization, MarkupSafe, joblib, jmespath, jaraco.context, html5lib, fsspec, frozenlist, attrs, aioitertools, aiohappyeyeballs, yarl, scikit-learn, Jinja2, jaraco.functools, jaraco.classes, botocore, beautifulsoup4, aiosignal, pyvo, keyring, bokeh, aiohttp, astroquery, aiobotocore, s3fs, lightkurve\n",
            "Successfully installed Jinja2-3.1.6 MarkupSafe-3.0.2 aiobotocore-2.24.2 aiohappyeyeballs-2.6.1 aiohttp-3.12.15 aioitertools-0.12.0 aiosignal-1.4.0 astroquery-0.4.10 attrs-25.3.0 beautifulsoup4-4.13.5 bokeh-3.8.0 botocore-1.40.18 fbpca-1.0 frozenlist-1.7.0 fsspec-2025.9.0 html5lib-1.1 jaraco.classes-3.4.0 jaraco.context-6.0.1 jaraco.functools-4.3.0 jmespath-1.0.1 joblib-1.5.2 keyring-25.6.0 lightkurve-2.5.1 memoization-0.4.0 more-itertools-10.8.0 multidict-6.6.4 narwhals-2.4.0 patsy-1.0.1 propcache-0.3.2 pyvo-1.7 pywin32-ctypes-0.2.3 s3fs-2025.9.0 scikit-learn-1.7.1 soupsieve-2.8 threadpoolctl-3.6.0 tqdm-4.67.1 typing-extensions-4.15.0 uncertainties-3.2.3 webencodings-0.5.1 wrapt-1.17.3 xyzservices-2025.4.0 yarl-1.20.1\n"
          ]
        },
        {
          "name": "stderr",
          "output_type": "stream",
          "text": [
            "\n",
            "[notice] A new release of pip is available: 25.0.1 -> 25.2\n",
            "[notice] To update, run: C:\\Users\\perez\\AppData\\Local\\Microsoft\\WindowsApps\\PythonSoftwareFoundation.Python.3.12_qbz5n2kfra8p0\\python.exe -m pip install --upgrade pip\n"
          ]
        }
      ],
      "source": [
        "!pip install lightkurve"
      ]
    },
    {
      "cell_type": "code",
      "execution_count": 4,
      "metadata": {
        "id": "LnC6GrHXxDuE"
      },
      "outputs": [
        {
          "name": "stdout",
          "output_type": "stream",
          "text": [
            "2.5.1\n"
          ]
        },
        {
          "name": "stderr",
          "output_type": "stream",
          "text": [
            "C:\\Users\\perez\\AppData\\Local\\Packages\\PythonSoftwareFoundation.Python.3.12_qbz5n2kfra8p0\\LocalCache\\local-packages\\Python312\\site-packages\\lightkurve\\prf\\__init__.py:7: UserWarning: Warning: the tpfmodel submodule is not available without oktopus installed, which requires a current version of autograd. See #1452 for details.\n",
            "  warnings.warn(\n"
          ]
        }
      ],
      "source": [
        "from lightkurve import search_targetpixelfile\n",
        "from lightkurve import TessTargetPixelFile\n",
        "import lightkurve as lk\n",
        "import numpy as np\n",
        "print(lk.__version__)"
      ]
    },
    {
      "cell_type": "markdown",
      "metadata": {
        "id": "nuGlh5DOA8MK"
      },
      "source": [
        "# Let's look at a star we know has a planet\n",
        "*If we can spot a blob periodically transiting between the star and us, chances are it's an exoplanet*\n"
      ]
    },
    {
      "cell_type": "code",
      "execution_count": 5,
      "metadata": {
        "id": "r0ufxUQrxfvl"
      },
      "outputs": [
        {
          "data": {
            "text/plain": [
              "<Axes: title={'center': 'Target ID: 6922244, Cadence: 11958'}, xlabel='Pixel Column Number', ylabel='Pixel Row Number'>"
            ]
          },
          "execution_count": 5,
          "metadata": {},
          "output_type": "execute_result"
        },
        {
          "data": {
            "image/png": "[encoded data removed]",
            "text/plain": [
              "<Figure size 848.5x400 with 2 Axes>"
            ]
          },
          "metadata": {},
          "output_type": "display_data"
        }
      ],
      "source": [
        "# Download the pixelfile for a given star\n",
        "# A quarter means a quarter of a year\n",
        "pixelFile = search_targetpixelfile('KIC 6922244', author=\"Kepler\", cadence=\"long\", quarter=4).download()\n",
        "#pixelFile = search_targetpixelfile('TIC 152738837', author=\"TESS\", cadence=\"long\", sector=4).download()\n",
        "# Show a single snapshot\n",
        "pixelFile.plot(frame=42)"
      ]
    },
    {
      "cell_type": "markdown",
      "metadata": {
        "id": "bEX4ATNaDiBJ"
      },
      "source": [
        "1) Que es la función de dispersión del punto (Point Spread Function, PSF) de una estrella?"
      ]
    },
    {
      "cell_type": "code",
      "execution_count": 7,
      "metadata": {
        "id": "024shuAwcnep"
      },
      "outputs": [
        {
          "data": {
            "text/plain": [
              "<Axes: xlabel='Period [$\\\\mathrm{d}$]', ylabel='BLS Power'>"
            ]
          },
          "execution_count": 7,
          "metadata": {},
          "output_type": "execute_result"
        }
      ],
      "source": [
        "lc = pixelFile.to_lightcurve(aperture_mask=pixelFile.pipeline_mask)\n",
        "lc.plot()\n",
        "\n",
        "# We may find it easier to spot the pattern if we flatten the curve\n",
        "flat_lc = lc.flatten()\n",
        "flat_lc.plot()\n",
        "\n",
        "period = np.linspace(1, 5, 20)\n",
        "# BLS = Box Least Squares\n",
        "bls = lc.to_periodogram(method='bls', period=period, frequency_factor=500)\n",
        "bls.plot()"
      ]
    },
    {
      "cell_type": "code",
      "execution_count": 8,
      "metadata": {
        "id": "jIne3ALgBROh"
      },
      "outputs": [
        {
          "name": "stdout",
          "output_type": "stream",
          "text": [
            "3.5263157894736845 d\n",
            "353.56132485035283\n",
            "0.15 d\n"
          ]
        }
      ],
      "source": [
        "# We'll combine the individual frames into a lightcurve\n",
        "# Aperture masks make the image look better for analysis\n",
        "lc = pixelFile.to_lightcurve(aperture_mask=pixelFile.pipeline_mask)\n",
        "lc.plot()\n",
        "\n",
        "# We may find it easier to spot the pattern if we flatten the curve\n",
        "flat_lc = lc.flatten()\n",
        "flat_lc.plot()\n",
        "\n",
        "# Phase-fold the light curve to verify that the period and transit time\n",
        "# correspond to the transit signal\n",
        "# This puts the frequency spikes on top of each other if we get the period right\n",
        "folded_lc = flat_lc.fold(period=3.5263)\n",
        "folded_lc.plot()\n",
        "\n",
        "# How to discover the correct period?\n",
        "# Use a periodogram to show all the repetitive patterns in your graph\n",
        "# Gives you the most likely candidate\n",
        "\n",
        "# Periodograms are an estimate of the spectral density of a signal\n",
        "# (An estimation of what the Fourier Transform of the data would look like\n",
        "#  if it were a continuous function https://arxiv.org/pdf/1703.09824.pdf)\n",
        "\n",
        "period = np.linspace(1, 5, 20)\n",
        "# BLS = Box Least Squares\n",
        "bls = lc.to_periodogram(method='bls', period=period, frequency_factor=500)\n",
        "bls.plot()\n",
        "\n",
        "# Period value corresponding to the highest peak in the periodogram\n",
        "planet_x_period = bls.period_at_max_power\n",
        "\n",
        "planet_x_t0 = bls.transit_time_at_max_power\n",
        "planet_x_dur = bls.duration_at_max_power\n",
        "\n",
        "# Folding can yield a lot of information about the planet\n",
        "# The depth can tell you about the size, etc\n",
        "ax = lc.fold(period=planet_x_period, epoch_time=planet_x_t0).scatter()\n",
        "ax.set_xlim(-2,2)\n",
        "\n",
        "print(planet_x_period)\n",
        "print(planet_x_t0)\n",
        "print(planet_x_dur)\n"
      ]
    },
    {
      "cell_type": "code",
      "execution_count": null,
      "metadata": {
        "id": "DhSkcbXXckOk"
      },
      "outputs": [],
      "source": []
    },
    {
      "cell_type": "markdown",
      "metadata": {
        "id": "nLt9FYS6Bqal"
      },
      "source": [
        "# Let's try and find a planet!\n",
        "*Pick a star and try to see if there's something transiting in front of it*"
      ]
    },
    {
      "cell_type": "markdown",
      "metadata": {
        "id": "RfNkNWch4mWB"
      },
      "source": [
        "## Selecting a star"
      ]
    },
    {
      "cell_type": "code",
      "execution_count": null,
      "metadata": {
        "id": "fopg9Qy24mMZ"
      },
      "outputs": [],
      "source": [
        "# Use TESS data. That's being updated regularly. Kepler is already well analysed\n",
        "\n",
        "# Downloading MAST data\n",
        "# https://mast.stsci.edu/portal/Mashup/Clients/Mast/Portal.html\n",
        "\n",
        "# Look for nearby stars\n",
        "# MAST catalogs -> TESS CTL v8.01 -> Advanced Search\n",
        "# Has 9.5 million records\n",
        "\n",
        "# Narrow down the search as you like\n",
        "\n",
        "# For example:\n",
        "# T_eff = Temperature between 2000 and 3500\n",
        "#         These are red dwarfs and tend to have rapidly orbiting planets\n",
        "#         Which fits the 24 day time sampling rate of TESS\n",
        "\n",
        "# Distance = Between 12 and 24 parsecs\n",
        "#            Because we are not able to do the Kessel run in less than 12\n",
        "\n",
        "# Magnitud: V < 14 (opcional, más brillantes = mejor calidad de datos).\n",
        "\n",
        "# Take the ID, e.g. 140206488\n",
        "\n",
        "# Double-check in EXOMAST to see if a planet has already been found\n",
        "# https://exo.mast.stsci.edu/\n",
        "\n",
        "# Put the name in MAST search and find TESS data\n",
        "# We can try to access this with search_targetpixelfile\n",
        "# OR download the data to a local folder"
      ]
    },
    {
      "cell_type": "markdown",
      "metadata": {
        "id": "SEdVnyCeIp_s"
      },
      "source": [
        "# Analyze the star"
      ]
    },
    {
      "cell_type": "code",
      "execution_count": null,
      "metadata": {
        "id": "aqw99_nrIs6E"
      },
      "outputs": [],
      "source": [
        "# Let's download the pixelfile for a given star\n",
        "# And save it to a local folder (See download helper below)\n",
        "\n",
        "# Command to search for file - often is not available, so that's why we download more manually\n",
        "# pixelFile = search_targetpixelfile('KIC 6922244', author=\"TESS\", cadence=\"long\", quarter=4).download()\n",
        "\n",
        "tpf = TessTargetPixelFile(\"/TESS/MAST_2025-09-07T2327/TESS/tess2021310001228-s0045-0000000046125330-0216-s/tess2021310001228-s0045-0000000046125330-0216-s_tp.fits\")\n",
        "# Show a single snapshot\n",
        "tpf.plot(frame=42)\n",
        "\n",
        "# Plot the lightcurve\n",
        "lc = tpf.to_lightcurve(aperture_mask=tpf.pipeline_mask)\n",
        "lc.plot()\n",
        "\n",
        "# Flatten it\n",
        "flat_lc = lc.flatten()\n",
        "flat_lc.plot()\n",
        "\n",
        "# Try and find the period of the most prominent orbiting object\n",
        "period = np.linspace(0.5, 10, 1000)\n",
        "bls = lc.to_periodogram(method='bls', period=period, frequency_factor=500)\n",
        "bls.plot()\n",
        "\n",
        "planet_x_period = bls.period_at_max_power\n",
        "planet_x_t0 = bls.transit_time_at_max_power\n",
        "planet_x_dur = bls.duration_at_max_power\n",
        "\n",
        "# Phase-fold the ligthcurve based on the discovered period at max power\n",
        "ax = lc.fold(period=planet_x_period, epoch_time=planet_x_t0).scatter()\n",
        "ax.set_xlim(-3,3)\n",
        "\n",
        "print(planet_x_period)\n",
        "print(planet_x_t0)\n",
        "print(planet_x_dur)"
      ]
    },
    {
      "cell_type": "markdown",
      "metadata": {
        "id": "RdjqCtlYQrrl"
      },
      "source": [
        "## Download helper\n",
        "You can add the URL of the TESS data zip file to be downloaded here and\n",
        "get the archive unzipped into the local folder"
      ]
    },
    {
      "cell_type": "code",
      "execution_count": null,
      "metadata": {
        "id": "OLLFH3mqIsyM"
      },
      "outputs": [],
      "source": [
        "from urllib.request import urlopen\n",
        "from io import BytesIO\n",
        "from zipfile import ZipFile\n",
        "\n",
        "def download_and_unzip(url, extract_to='.'):\n",
        "    http_response = urlopen(url)\n",
        "    zipfile = ZipFile(BytesIO(http_response.read()))\n",
        "    zipfile.extractall(path=extract_to)\n",
        "\n",
        "product_group_id = '71233337'\n",
        "url = 'https://mast.stsci.edu/api/v0.1/Download/bundle.zip?previews=false&obsid=' + product_group_id\n",
        "destination = '/TESS/'\n",
        "#destination = '/KEPLER/'\n",
        "\n",
        "download_and_unzip(url, destination)\n"
      ]
    },
    {
      "cell_type": "markdown",
      "metadata": {
        "id": "HM1MVTU3Y0Wr"
      },
      "source": [
        "# Estrellas para la detección de exoplanetas\n",
        "\n"
      ]
    },
    {
      "cell_type": "markdown",
      "metadata": {
        "id": "Mw4-V0BrZCta"
      },
      "source": [
        "1) Utilizando los archivos fits, indique cual de las  siguientes estrellas poseen exoplanetas, justifique sus respuestas.\n",
        "\n",
        "*   TIC 172900988\n",
        "*   TIC 393818343\n",
        "*   TIC 290131778\n",
        "*   TIC 22567172\n",
        "*   TIC 439967669\n",
        "*   TIC 237913194\n",
        "\n",
        "2) Utilizando los datos en linea y con ayuda del paquete lightkurve, determine cual las siguientes estrellas poseen exoplanetas, justifique sus respuestas.\n",
        "\n",
        "* KIC 11446443\n",
        "* KIC 10874614\n",
        "* KIC 11804465\n",
        "* KIC 10925104\n",
        "* KIC 10264660\n",
        "* KIC 5090690\n",
        "\n",
        "\n",
        "3) Utilice el catalogo MAST y escoga 10 estrellas que esten bajo el criterio:\n",
        "\n",
        "* T_eff = Temperature between 2000 and 3500\n",
        "* Distance = Between 12 and 24 parsecs\n",
        "* Magnitud: V < 14 (más brillantes = mejor calidad de datos).\n",
        "\n",
        "E identifique y explique si a estas estrellas se les puede adjudicar o no un exoplaneta.\n",
        "\n",
        "4) No olvide responder las preguntas que se planteen en clase.\n"
      ]
    },
    {
      "cell_type": "code",
      "execution_count": null,
      "metadata": {
        "id": "bhpSnnYNsKMH"
      },
      "outputs": [],
      "source": []
    }
  ],
  "metadata": {
    "colab": {
      "provenance": []
    },
    "kernelspec": {
      "display_name": "Python 3",
      "name": "python3"
    },
    "language_info": {
      "codemirror_mode": {
        "name": "ipython",
        "version": 3
      },
      "file_extension": ".py",
      "mimetype": "text/x-python",
      "name": "python",
      "nbconvert_exporter": "python",
      "pygments_lexer": "ipython3",
      "version": "3.12.10"
    }
  },
  "nbformat": 4,
  "nbformat_minor": 0
}
