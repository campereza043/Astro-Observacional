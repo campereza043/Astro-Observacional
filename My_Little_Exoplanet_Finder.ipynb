{
  "nbformat": 4,
  "nbformat_minor": 0,
  "metadata": {
    "colab": {
      "provenance": []
    },
    "kernelspec": {
      "name": "python3",
      "display_name": "Python 3"
    },
    "language_info": {
      "name": "python"
    }
  },
  "cells": [
    {
      "cell_type": "markdown",
      "source": [
        "# Finding exoplanets with Python + Lightkurve"
      ],
      "metadata": {
        "id": "NA4XzDlzl9K-"
      }
    },
    {
      "cell_type": "code",
      "execution_count": 1,
      "metadata": {
        "id": "KLjoZ6Vrw2jL",
        "collapsed": true,
        "colab": {
          "base_uri": "https://localhost:8080/"
        },
        "outputId": "204b861a-7e3b-4814-877c-983966f868fb"
      },
      "outputs": [
        {
          "output_type": "stream",
          "name": "stdout",
          "text": [
            "Collecting lightkurve\n",
            "  Downloading lightkurve-2.5.1-py3-none-any.whl.metadata (6.3 kB)\n",
            "Requirement already satisfied: astropy>=5.0 in /usr/local/lib/python3.12/dist-packages (from lightkurve) (7.1.0)\n",
            "Collecting astroquery>=0.3.10 (from lightkurve)\n",
            "  Downloading astroquery-0.4.10-py3-none-any.whl.metadata (6.3 kB)\n",
            "Requirement already satisfied: beautifulsoup4>=4.6.0 in /usr/local/lib/python3.12/dist-packages (from lightkurve) (4.13.5)\n",
            "Requirement already satisfied: bokeh>=2.3.2 in /usr/local/lib/python3.12/dist-packages (from lightkurve) (3.7.3)\n",
            "Collecting fbpca>=1.0 (from lightkurve)\n",
            "  Downloading fbpca-1.0.tar.gz (11 kB)\n",
            "  Preparing metadata (setup.py) ... \u001b[?25l\u001b[?25hdone\n",
            "Requirement already satisfied: matplotlib>=3.1 in /usr/local/lib/python3.12/dist-packages (from lightkurve) (3.10.0)\n",
            "Collecting memoization>=0.3.1 (from lightkurve)\n",
            "  Downloading memoization-0.4.0.tar.gz (41 kB)\n",
            "\u001b[2K     \u001b[90m━━━━━━━━━━━━━━━━━━━━━━━━━━━━━━━━━━━━━━━━\u001b[0m \u001b[32m41.2/41.2 kB\u001b[0m \u001b[31m1.0 MB/s\u001b[0m eta \u001b[36m0:00:00\u001b[0m\n",
            "\u001b[?25h  Preparing metadata (setup.py) ... \u001b[?25l\u001b[?25hdone\n",
            "Requirement already satisfied: numpy>=1.26 in /usr/local/lib/python3.12/dist-packages (from lightkurve) (2.0.2)\n",
            "Requirement already satisfied: pandas>=1.3.6 in /usr/local/lib/python3.12/dist-packages (from lightkurve) (2.2.2)\n",
            "Requirement already satisfied: patsy>=0.5.0 in /usr/local/lib/python3.12/dist-packages (from lightkurve) (1.0.1)\n",
            "Requirement already satisfied: requests>=2.22.0 in /usr/local/lib/python3.12/dist-packages (from lightkurve) (2.32.4)\n",
            "Collecting s3fs>=2024.6.1 (from lightkurve)\n",
            "  Downloading s3fs-2025.9.0-py3-none-any.whl.metadata (1.4 kB)\n",
            "Requirement already satisfied: scikit-learn>=0.24.0 in /usr/local/lib/python3.12/dist-packages (from lightkurve) (1.6.1)\n",
            "Requirement already satisfied: scipy>=1.7 in /usr/local/lib/python3.12/dist-packages (from lightkurve) (1.16.1)\n",
            "Requirement already satisfied: tqdm>=4.25.0 in /usr/local/lib/python3.12/dist-packages (from lightkurve) (4.67.1)\n",
            "Collecting uncertainties>=3.1.4 (from lightkurve)\n",
            "  Downloading uncertainties-3.2.3-py3-none-any.whl.metadata (7.0 kB)\n",
            "Requirement already satisfied: urllib3>=1.23 in /usr/local/lib/python3.12/dist-packages (from lightkurve) (2.5.0)\n",
            "Requirement already satisfied: pyerfa>=2.0.1.1 in /usr/local/lib/python3.12/dist-packages (from astropy>=5.0->lightkurve) (2.0.1.5)\n",
            "Requirement already satisfied: astropy-iers-data>=0.2025.4.28.0.37.27 in /usr/local/lib/python3.12/dist-packages (from astropy>=5.0->lightkurve) (0.2025.9.1.0.42.11)\n",
            "Requirement already satisfied: PyYAML>=6.0.0 in /usr/local/lib/python3.12/dist-packages (from astropy>=5.0->lightkurve) (6.0.2)\n",
            "Requirement already satisfied: packaging>=22.0.0 in /usr/local/lib/python3.12/dist-packages (from astropy>=5.0->lightkurve) (25.0)\n",
            "Requirement already satisfied: html5lib>=0.999 in /usr/local/lib/python3.12/dist-packages (from astroquery>=0.3.10->lightkurve) (1.1)\n",
            "Requirement already satisfied: keyring>=15.0 in /usr/local/lib/python3.12/dist-packages (from astroquery>=0.3.10->lightkurve) (25.6.0)\n",
            "Collecting pyvo>=1.5 (from astroquery>=0.3.10->lightkurve)\n",
            "  Downloading pyvo-1.7-py3-none-any.whl.metadata (4.7 kB)\n",
            "Requirement already satisfied: soupsieve>1.2 in /usr/local/lib/python3.12/dist-packages (from beautifulsoup4>=4.6.0->lightkurve) (2.8)\n",
            "Requirement already satisfied: typing-extensions>=4.0.0 in /usr/local/lib/python3.12/dist-packages (from beautifulsoup4>=4.6.0->lightkurve) (4.15.0)\n",
            "Requirement already satisfied: Jinja2>=2.9 in /usr/local/lib/python3.12/dist-packages (from bokeh>=2.3.2->lightkurve) (3.1.6)\n",
            "Requirement already satisfied: contourpy>=1.2 in /usr/local/lib/python3.12/dist-packages (from bokeh>=2.3.2->lightkurve) (1.3.3)\n",
            "Requirement already satisfied: narwhals>=1.13 in /usr/local/lib/python3.12/dist-packages (from bokeh>=2.3.2->lightkurve) (2.3.0)\n",
            "Requirement already satisfied: pillow>=7.1.0 in /usr/local/lib/python3.12/dist-packages (from bokeh>=2.3.2->lightkurve) (11.3.0)\n",
            "Requirement already satisfied: tornado>=6.2 in /usr/local/lib/python3.12/dist-packages (from bokeh>=2.3.2->lightkurve) (6.4.2)\n",
            "Requirement already satisfied: xyzservices>=2021.09.1 in /usr/local/lib/python3.12/dist-packages (from bokeh>=2.3.2->lightkurve) (2025.4.0)\n",
            "Requirement already satisfied: cycler>=0.10 in /usr/local/lib/python3.12/dist-packages (from matplotlib>=3.1->lightkurve) (0.12.1)\n",
            "Requirement already satisfied: fonttools>=4.22.0 in /usr/local/lib/python3.12/dist-packages (from matplotlib>=3.1->lightkurve) (4.59.2)\n",
            "Requirement already satisfied: kiwisolver>=1.3.1 in /usr/local/lib/python3.12/dist-packages (from matplotlib>=3.1->lightkurve) (1.4.9)\n",
            "Requirement already satisfied: pyparsing>=2.3.1 in /usr/local/lib/python3.12/dist-packages (from matplotlib>=3.1->lightkurve) (3.2.3)\n",
            "Requirement already satisfied: python-dateutil>=2.7 in /usr/local/lib/python3.12/dist-packages (from matplotlib>=3.1->lightkurve) (2.9.0.post0)\n",
            "Requirement already satisfied: pytz>=2020.1 in /usr/local/lib/python3.12/dist-packages (from pandas>=1.3.6->lightkurve) (2025.2)\n",
            "Requirement already satisfied: tzdata>=2022.7 in /usr/local/lib/python3.12/dist-packages (from pandas>=1.3.6->lightkurve) (2025.2)\n",
            "Requirement already satisfied: charset_normalizer<4,>=2 in /usr/local/lib/python3.12/dist-packages (from requests>=2.22.0->lightkurve) (3.4.3)\n",
            "Requirement already satisfied: idna<4,>=2.5 in /usr/local/lib/python3.12/dist-packages (from requests>=2.22.0->lightkurve) (3.10)\n",
            "Requirement already satisfied: certifi>=2017.4.17 in /usr/local/lib/python3.12/dist-packages (from requests>=2.22.0->lightkurve) (2025.8.3)\n",
            "Collecting aiobotocore<3.0.0,>=2.5.4 (from s3fs>=2024.6.1->lightkurve)\n",
            "  Downloading aiobotocore-2.24.2-py3-none-any.whl.metadata (25 kB)\n",
            "Collecting fsspec==2025.9.0 (from s3fs>=2024.6.1->lightkurve)\n",
            "  Downloading fsspec-2025.9.0-py3-none-any.whl.metadata (10 kB)\n",
            "Requirement already satisfied: aiohttp!=4.0.0a0,!=4.0.0a1 in /usr/local/lib/python3.12/dist-packages (from s3fs>=2024.6.1->lightkurve) (3.12.15)\n",
            "Requirement already satisfied: joblib>=1.2.0 in /usr/local/lib/python3.12/dist-packages (from scikit-learn>=0.24.0->lightkurve) (1.5.2)\n",
            "Requirement already satisfied: threadpoolctl>=3.1.0 in /usr/local/lib/python3.12/dist-packages (from scikit-learn>=0.24.0->lightkurve) (3.6.0)\n",
            "Collecting aioitertools<1.0.0,>=0.5.1 (from aiobotocore<3.0.0,>=2.5.4->s3fs>=2024.6.1->lightkurve)\n",
            "  Downloading aioitertools-0.12.0-py3-none-any.whl.metadata (3.8 kB)\n",
            "Collecting botocore<1.40.19,>=1.40.15 (from aiobotocore<3.0.0,>=2.5.4->s3fs>=2024.6.1->lightkurve)\n",
            "  Downloading botocore-1.40.18-py3-none-any.whl.metadata (5.7 kB)\n",
            "Collecting jmespath<2.0.0,>=0.7.1 (from aiobotocore<3.0.0,>=2.5.4->s3fs>=2024.6.1->lightkurve)\n",
            "  Downloading jmespath-1.0.1-py3-none-any.whl.metadata (7.6 kB)\n",
            "Requirement already satisfied: multidict<7.0.0,>=6.0.0 in /usr/local/lib/python3.12/dist-packages (from aiobotocore<3.0.0,>=2.5.4->s3fs>=2024.6.1->lightkurve) (6.6.4)\n",
            "Requirement already satisfied: wrapt<2.0.0,>=1.10.10 in /usr/local/lib/python3.12/dist-packages (from aiobotocore<3.0.0,>=2.5.4->s3fs>=2024.6.1->lightkurve) (1.17.3)\n",
            "Requirement already satisfied: aiohappyeyeballs>=2.5.0 in /usr/local/lib/python3.12/dist-packages (from aiohttp!=4.0.0a0,!=4.0.0a1->s3fs>=2024.6.1->lightkurve) (2.6.1)\n",
            "Requirement already satisfied: aiosignal>=1.4.0 in /usr/local/lib/python3.12/dist-packages (from aiohttp!=4.0.0a0,!=4.0.0a1->s3fs>=2024.6.1->lightkurve) (1.4.0)\n",
            "Requirement already satisfied: attrs>=17.3.0 in /usr/local/lib/python3.12/dist-packages (from aiohttp!=4.0.0a0,!=4.0.0a1->s3fs>=2024.6.1->lightkurve) (25.3.0)\n",
            "Requirement already satisfied: frozenlist>=1.1.1 in /usr/local/lib/python3.12/dist-packages (from aiohttp!=4.0.0a0,!=4.0.0a1->s3fs>=2024.6.1->lightkurve) (1.7.0)\n",
            "Requirement already satisfied: propcache>=0.2.0 in /usr/local/lib/python3.12/dist-packages (from aiohttp!=4.0.0a0,!=4.0.0a1->s3fs>=2024.6.1->lightkurve) (0.3.2)\n",
            "Requirement already satisfied: yarl<2.0,>=1.17.0 in /usr/local/lib/python3.12/dist-packages (from aiohttp!=4.0.0a0,!=4.0.0a1->s3fs>=2024.6.1->lightkurve) (1.20.1)\n",
            "Requirement already satisfied: six>=1.9 in /usr/local/lib/python3.12/dist-packages (from html5lib>=0.999->astroquery>=0.3.10->lightkurve) (1.17.0)\n",
            "Requirement already satisfied: webencodings in /usr/local/lib/python3.12/dist-packages (from html5lib>=0.999->astroquery>=0.3.10->lightkurve) (0.5.1)\n",
            "Requirement already satisfied: MarkupSafe>=2.0 in /usr/local/lib/python3.12/dist-packages (from Jinja2>=2.9->bokeh>=2.3.2->lightkurve) (3.0.2)\n",
            "Requirement already satisfied: SecretStorage>=3.2 in /usr/local/lib/python3.12/dist-packages (from keyring>=15.0->astroquery>=0.3.10->lightkurve) (3.3.3)\n",
            "Requirement already satisfied: jeepney>=0.4.2 in /usr/local/lib/python3.12/dist-packages (from keyring>=15.0->astroquery>=0.3.10->lightkurve) (0.9.0)\n",
            "Requirement already satisfied: jaraco.classes in /usr/local/lib/python3.12/dist-packages (from keyring>=15.0->astroquery>=0.3.10->lightkurve) (3.4.0)\n",
            "Requirement already satisfied: jaraco.functools in /usr/local/lib/python3.12/dist-packages (from keyring>=15.0->astroquery>=0.3.10->lightkurve) (4.3.0)\n",
            "Requirement already satisfied: jaraco.context in /usr/local/lib/python3.12/dist-packages (from keyring>=15.0->astroquery>=0.3.10->lightkurve) (6.0.1)\n",
            "Requirement already satisfied: cryptography>=2.0 in /usr/local/lib/python3.12/dist-packages (from SecretStorage>=3.2->keyring>=15.0->astroquery>=0.3.10->lightkurve) (43.0.3)\n",
            "Requirement already satisfied: more-itertools in /usr/local/lib/python3.12/dist-packages (from jaraco.classes->keyring>=15.0->astroquery>=0.3.10->lightkurve) (10.8.0)\n",
            "Requirement already satisfied: cffi>=1.12 in /usr/local/lib/python3.12/dist-packages (from cryptography>=2.0->SecretStorage>=3.2->keyring>=15.0->astroquery>=0.3.10->lightkurve) (1.17.1)\n",
            "Requirement already satisfied: pycparser in /usr/local/lib/python3.12/dist-packages (from cffi>=1.12->cryptography>=2.0->SecretStorage>=3.2->keyring>=15.0->astroquery>=0.3.10->lightkurve) (2.22)\n",
            "Downloading lightkurve-2.5.1-py3-none-any.whl (256 kB)\n",
            "\u001b[2K   \u001b[90m━━━━━━━━━━━━━━━━━━━━━━━━━━━━━━━━━━━━━━━━\u001b[0m \u001b[32m256.9/256.9 kB\u001b[0m \u001b[31m4.3 MB/s\u001b[0m eta \u001b[36m0:00:00\u001b[0m\n",
            "\u001b[?25hDownloading astroquery-0.4.10-py3-none-any.whl (11.1 MB)\n",
            "\u001b[2K   \u001b[90m━━━━━━━━━━━━━━━━━━━━━━━━━━━━━━━━━━━━━━━━\u001b[0m \u001b[32m11.1/11.1 MB\u001b[0m \u001b[31m86.0 MB/s\u001b[0m eta \u001b[36m0:00:00\u001b[0m\n",
            "\u001b[?25hDownloading s3fs-2025.9.0-py3-none-any.whl (30 kB)\n",
            "Downloading fsspec-2025.9.0-py3-none-any.whl (199 kB)\n",
            "\u001b[2K   \u001b[90m━━━━━━━━━━━━━━━━━━━━━━━━━━━━━━━━━━━━━━━━\u001b[0m \u001b[32m199.3/199.3 kB\u001b[0m \u001b[31m12.9 MB/s\u001b[0m eta \u001b[36m0:00:00\u001b[0m\n",
            "\u001b[?25hDownloading uncertainties-3.2.3-py3-none-any.whl (60 kB)\n",
            "\u001b[2K   \u001b[90m━━━━━━━━━━━━━━━━━━━━━━━━━━━━━━━━━━━━━━━━\u001b[0m \u001b[32m60.1/60.1 kB\u001b[0m \u001b[31m3.8 MB/s\u001b[0m eta \u001b[36m0:00:00\u001b[0m\n",
            "\u001b[?25hDownloading aiobotocore-2.24.2-py3-none-any.whl (85 kB)\n",
            "\u001b[2K   \u001b[90m━━━━━━━━━━━━━━━━━━━━━━━━━━━━━━━━━━━━━━━━\u001b[0m \u001b[32m85.4/85.4 kB\u001b[0m \u001b[31m6.1 MB/s\u001b[0m eta \u001b[36m0:00:00\u001b[0m\n",
            "\u001b[?25hDownloading pyvo-1.7-py3-none-any.whl (1.1 MB)\n",
            "\u001b[2K   \u001b[90m━━━━━━━━━━━━━━━━━━━━━━━━━━━━━━━━━━━━━━━━\u001b[0m \u001b[32m1.1/1.1 MB\u001b[0m \u001b[31m48.7 MB/s\u001b[0m eta \u001b[36m0:00:00\u001b[0m\n",
            "\u001b[?25hDownloading aioitertools-0.12.0-py3-none-any.whl (24 kB)\n",
            "Downloading botocore-1.40.18-py3-none-any.whl (14.0 MB)\n",
            "\u001b[2K   \u001b[90m━━━━━━━━━━━━━━━━━━━━━━━━━━━━━━━━━━━━━━━━\u001b[0m \u001b[32m14.0/14.0 MB\u001b[0m \u001b[31m94.2 MB/s\u001b[0m eta \u001b[36m0:00:00\u001b[0m\n",
            "\u001b[?25hDownloading jmespath-1.0.1-py3-none-any.whl (20 kB)\n",
            "Building wheels for collected packages: fbpca, memoization\n",
            "  Building wheel for fbpca (setup.py) ... \u001b[?25l\u001b[?25hdone\n",
            "  Created wheel for fbpca: filename=fbpca-1.0-py3-none-any.whl size=11373 sha256=ba67372aec4d99ef2d4be6048b6d9794b6fd42303315773c4c341022a8da3e12\n",
            "  Stored in directory: /root/.cache/pip/wheels/04/15/cd/2f622795b09e83471a3be5d2581cd9cf96a6ec7aa78e8deffe\n",
            "  Building wheel for memoization (setup.py) ... \u001b[?25l\u001b[?25hdone\n",
            "  Created wheel for memoization: filename=memoization-0.4.0-py3-none-any.whl size=50452 sha256=2c75d567048083f461e0cf6992f70caef0bd6b68bc20061b3360e2b124c47177\n",
            "  Stored in directory: /root/.cache/pip/wheels/26/35/02/90618fc7cbf03a335f3cacd59d32b35930bf5a57f3c0d0814c\n",
            "Successfully built fbpca memoization\n",
            "Installing collected packages: fbpca, uncertainties, memoization, jmespath, fsspec, aioitertools, botocore, pyvo, aiobotocore, s3fs, astroquery, lightkurve\n",
            "  Attempting uninstall: fsspec\n",
            "    Found existing installation: fsspec 2025.3.0\n",
            "    Uninstalling fsspec-2025.3.0:\n",
            "      Successfully uninstalled fsspec-2025.3.0\n",
            "\u001b[31mERROR: pip's dependency resolver does not currently take into account all the packages that are installed. This behaviour is the source of the following dependency conflicts.\n",
            "datasets 4.0.0 requires fsspec[http]<=2025.3.0,>=2023.1.0, but you have fsspec 2025.9.0 which is incompatible.\n",
            "gcsfs 2025.3.0 requires fsspec==2025.3.0, but you have fsspec 2025.9.0 which is incompatible.\u001b[0m\u001b[31m\n",
            "\u001b[0mSuccessfully installed aiobotocore-2.24.2 aioitertools-0.12.0 astroquery-0.4.10 botocore-1.40.18 fbpca-1.0 fsspec-2025.9.0 jmespath-1.0.1 lightkurve-2.5.1 memoization-0.4.0 pyvo-1.7 s3fs-2025.9.0 uncertainties-3.2.3\n"
          ]
        }
      ],
      "source": [
        "pip install lightkurve"
      ]
    },
    {
      "cell_type": "code",
      "source": [
        "from lightkurve import search_targetpixelfile\n",
        "from lightkurve import TessTargetPixelFile\n",
        "import lightkurve as lk\n",
        "import numpy as np\n",
        "print(lk.__version__)"
      ],
      "metadata": {
        "id": "LnC6GrHXxDuE"
      },
      "execution_count": null,
      "outputs": []
    },
    {
      "cell_type": "markdown",
      "source": [
        "# Let's look at a star we know has a planet\n",
        "*If we can spot a blob periodically transiting between the star and us, chances are it's an exoplanet*\n"
      ],
      "metadata": {
        "id": "nuGlh5DOA8MK"
      }
    },
    {
      "cell_type": "code",
      "source": [
        "# Download the pixelfile for a given star\n",
        "# A quarter means a quarter of a year\n",
        "pixelFile = search_targetpixelfile('KIC 6922244', author=\"Kepler\", cadence=\"long\", quarter=4).download()\n",
        "#pixelFile = search_targetpixelfile('TIC 152738837', author=\"TESS\", cadence=\"long\", sector=4).download()\n",
        "# Show a single snapshot\n",
        "pixelFile.plot(frame=42)\n"
      ],
      "metadata": {
        "id": "r0ufxUQrxfvl"
      },
      "execution_count": null,
      "outputs": []
    },
    {
      "cell_type": "markdown",
      "source": [
        "1) Que es la función de dispersión del punto (Point Spread Function, PSF) de una estrella?"
      ],
      "metadata": {
        "id": "bEX4ATNaDiBJ"
      }
    },
    {
      "cell_type": "code",
      "source": [
        "lc = pixelFile.to_lightcurve(aperture_mask=pixelFile.pipeline_mask)\n",
        "lc.plot()\n",
        "\n",
        "# We may find it easier to spot the pattern if we flatten the curve\n",
        "flat_lc = lc.flatten()\n",
        "flat_lc.plot()\n",
        "\n",
        "period = np.linspace(1, 5, 20)\n",
        "# BLS = Box Least Squares\n",
        "bls = lc.to_periodogram(method='bls', period=period, frequency_factor=500)\n",
        "bls.plot()"
      ],
      "metadata": {
        "id": "024shuAwcnep"
      },
      "execution_count": null,
      "outputs": []
    },
    {
      "cell_type": "code",
      "source": [
        "# We'll combine the individual frames into a lightcurve\n",
        "# Aperture masks make the image look better for analysis\n",
        "lc = pixelFile.to_lightcurve(aperture_mask=pixelFile.pipeline_mask)\n",
        "lc.plot()\n",
        "\n",
        "# We may find it easier to spot the pattern if we flatten the curve\n",
        "flat_lc = lc.flatten()\n",
        "flat_lc.plot()\n",
        "\n",
        "# Phase-fold the light curve to verify that the period and transit time\n",
        "# correspond to the transit signal\n",
        "# This puts the frequency spikes on top of each other if we get the period right\n",
        "folded_lc = flat_lc.fold(period=3.5263)\n",
        "folded_lc.plot()\n",
        "\n",
        "# How to discover the correct period?\n",
        "# Use a periodogram to show all the repetitive patterns in your graph\n",
        "# Gives you the most likely candidate\n",
        "\n",
        "# Periodograms are an estimate of the spectral density of a signal\n",
        "# (An estimation of what the Fourier Transform of the data would look like\n",
        "#  if it were a continuous function https://arxiv.org/pdf/1703.09824.pdf)\n",
        "\n",
        "period = np.linspace(1, 5, 20)\n",
        "# BLS = Box Least Squares\n",
        "bls = lc.to_periodogram(method='bls', period=period, frequency_factor=500)\n",
        "bls.plot()\n",
        "\n",
        "# Period value corresponding to the highest peak in the periodogram\n",
        "planet_x_period = bls.period_at_max_power\n",
        "\n",
        "planet_x_t0 = bls.transit_time_at_max_power\n",
        "planet_x_dur = bls.duration_at_max_power\n",
        "\n",
        "# Folding can yield a lot of information about the planet\n",
        "# The depth can tell you about the size, etc\n",
        "ax = lc.fold(period=planet_x_period, epoch_time=planet_x_t0).scatter()\n",
        "ax.set_xlim(-2,2)\n",
        "\n",
        "print(planet_x_period)\n",
        "print(planet_x_t0)\n",
        "print(planet_x_dur)\n"
      ],
      "metadata": {
        "id": "jIne3ALgBROh"
      },
      "execution_count": null,
      "outputs": []
    },
    {
      "cell_type": "code",
      "source": [],
      "metadata": {
        "id": "DhSkcbXXckOk"
      },
      "execution_count": null,
      "outputs": []
    },
    {
      "cell_type": "markdown",
      "source": [
        "# Let's try and find a planet!\n",
        "*Pick a star and try to see if there's something transiting in front of it*"
      ],
      "metadata": {
        "id": "nLt9FYS6Bqal"
      }
    },
    {
      "cell_type": "markdown",
      "source": [
        "## Selecting a star"
      ],
      "metadata": {
        "id": "RfNkNWch4mWB"
      }
    },
    {
      "cell_type": "code",
      "source": [
        "# Use TESS data. That's being updated regularly. Kepler is already well analysed\n",
        "\n",
        "# Downloading MAST data\n",
        "# https://mast.stsci.edu/portal/Mashup/Clients/Mast/Portal.html\n",
        "\n",
        "# Look for nearby stars\n",
        "# MAST catalogs -> TESS CTL v8.01 -> Advanced Search\n",
        "# Has 9.5 million records\n",
        "\n",
        "# Narrow down the search as you like\n",
        "\n",
        "# For example:\n",
        "# T_eff = Temperature between 2000 and 3500\n",
        "#         These are red dwarfs and tend to have rapidly orbiting planets\n",
        "#         Which fits the 24 day time sampling rate of TESS\n",
        "\n",
        "# Distance = Between 12 and 24 parsecs\n",
        "#            Because we are not able to do the Kessel run in less than 12\n",
        "\n",
        "# Magnitud: V < 14 (opcional, más brillantes = mejor calidad de datos).\n",
        "\n",
        "# Take the ID, e.g. 140206488\n",
        "\n",
        "# Double-check in EXOMAST to see if a planet has already been found\n",
        "# https://exo.mast.stsci.edu/\n",
        "\n",
        "# Put the name in MAST search and find TESS data\n",
        "# We can try to access this with search_targetpixelfile\n",
        "# OR download the data to a local folder"
      ],
      "metadata": {
        "id": "fopg9Qy24mMZ"
      },
      "execution_count": null,
      "outputs": []
    },
    {
      "cell_type": "markdown",
      "source": [
        "# Analyze the star"
      ],
      "metadata": {
        "id": "SEdVnyCeIp_s"
      }
    },
    {
      "cell_type": "code",
      "source": [
        "# Let's download the pixelfile for a given star\n",
        "# And save it to a local folder (See download helper below)\n",
        "\n",
        "# Command to search for file - often is not available, so that's why we download more manually\n",
        "# pixelFile = search_targetpixelfile('KIC 6922244', author=\"TESS\", cadence=\"long\", quarter=4).download()\n",
        "\n",
        "tpf = TessTargetPixelFile(\"/TESS/MAST_2025-09-07T2327/TESS/tess2021310001228-s0045-0000000046125330-0216-s/tess2021310001228-s0045-0000000046125330-0216-s_tp.fits\")\n",
        "# Show a single snapshot\n",
        "tpf.plot(frame=42)\n",
        "\n",
        "# Plot the lightcurve\n",
        "lc = tpf.to_lightcurve(aperture_mask=tpf.pipeline_mask)\n",
        "lc.plot()\n",
        "\n",
        "# Flatten it\n",
        "flat_lc = lc.flatten()\n",
        "flat_lc.plot()\n",
        "\n",
        "# Try and find the period of the most prominent orbiting object\n",
        "period = np.linspace(0.5, 10, 1000)\n",
        "bls = lc.to_periodogram(method='bls', period=period, frequency_factor=500)\n",
        "bls.plot()\n",
        "\n",
        "planet_x_period = bls.period_at_max_power\n",
        "planet_x_t0 = bls.transit_time_at_max_power\n",
        "planet_x_dur = bls.duration_at_max_power\n",
        "\n",
        "# Phase-fold the ligthcurve based on the discovered period at max power\n",
        "ax = lc.fold(period=planet_x_period, epoch_time=planet_x_t0).scatter()\n",
        "ax.set_xlim(-3,3)\n",
        "\n",
        "print(planet_x_period)\n",
        "print(planet_x_t0)\n",
        "print(planet_x_dur)"
      ],
      "metadata": {
        "id": "aqw99_nrIs6E"
      },
      "execution_count": null,
      "outputs": []
    },
    {
      "cell_type": "markdown",
      "source": [
        "## Download helper\n",
        "You can add the URL of the TESS data zip file to be downloaded here and\n",
        "get the archive unzipped into the local folder"
      ],
      "metadata": {
        "id": "RdjqCtlYQrrl"
      }
    },
    {
      "cell_type": "code",
      "source": [
        "from urllib.request import urlopen\n",
        "from io import BytesIO\n",
        "from zipfile import ZipFile\n",
        "\n",
        "def download_and_unzip(url, extract_to='.'):\n",
        "    http_response = urlopen(url)\n",
        "    zipfile = ZipFile(BytesIO(http_response.read()))\n",
        "    zipfile.extractall(path=extract_to)\n",
        "\n",
        "product_group_id = '71233337'\n",
        "url = 'https://mast.stsci.edu/api/v0.1/Download/bundle.zip?previews=false&obsid=' + product_group_id\n",
        "destination = '/TESS/'\n",
        "#destination = '/KEPLER/'\n",
        "\n",
        "download_and_unzip(url, destination)\n"
      ],
      "metadata": {
        "id": "OLLFH3mqIsyM"
      },
      "execution_count": null,
      "outputs": []
    },
    {
      "cell_type": "markdown",
      "source": [
        "# Estrellas para la detección de exoplanetas\n",
        "\n"
      ],
      "metadata": {
        "id": "HM1MVTU3Y0Wr"
      }
    },
    {
      "cell_type": "markdown",
      "source": [
        "1) Utilizando los archivos fits, indique cual de las  siguientes estrellas poseen exoplanetas, justifique sus respuestas.\n",
        "\n",
        "*   TIC 172900988\n",
        "*   TIC 393818343\n",
        "*   TIC 290131778\n",
        "*   TIC 22567172\n",
        "*   TIC 439967669\n",
        "*   TIC 237913194\n",
        "\n",
        "2) Utilizando los datos en linea y con ayuda del paquete lightkurve, determine cual las siguientes estrellas poseen exoplanetas, justifique sus respuestas.\n",
        "\n",
        "* KIC 11446443\n",
        "* KIC 10874614\n",
        "* KIC 11804465\n",
        "* KIC 10925104\n",
        "* KIC 10264660\n",
        "* KIC 5090690\n",
        "\n",
        "\n",
        "3) Utilice el catalogo MAST y escoga 10 estrellas que esten bajo el criterio:\n",
        "\n",
        "* T_eff = Temperature between 2000 and 3500\n",
        "* Distance = Between 12 and 24 parsecs\n",
        "* Magnitud: V < 14 (más brillantes = mejor calidad de datos).\n",
        "\n",
        "E identifique y explique si a estas estrellas se les puede adjudicar o no un exoplaneta.\n",
        "\n",
        "4) No olvide responder las preguntas que se planteen en clase.\n"
      ],
      "metadata": {
        "id": "Mw4-V0BrZCta"
      }
    },
    {
      "cell_type": "code",
      "source": [],
      "metadata": {
        "id": "bhpSnnYNsKMH"
      },
      "execution_count": null,
      "outputs": []
    }
  ]
}