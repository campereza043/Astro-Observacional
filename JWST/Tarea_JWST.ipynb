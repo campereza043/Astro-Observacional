{
 "cells": [
  {
   "cell_type": "markdown",
   "id": "f7f4f845",
   "metadata": {},
   "source": [
    "# Find the FITS files and make the images for: #\n",
    "\n",
    "use the MAST repository: https://mast.stsci.edu/portal/Mashup/Clients/Mast/Portal.html\n",
    "\n",
    "\n",
    "## Nebulosas\n",
    "\n",
    "(1) NGC 3372 – Nebulosa de Carina\n",
    "\n",
    "(2) NGC 1952 (M1) – Nebulosa del Cangrejo\n",
    "\n",
    "(3) NGC 6611 (M16) – Pillars of Creation\n",
    "\n",
    "(4) Tarantula Nebula – 30 Doradus \n",
    "\n",
    "(5) NGC 3132 – Southern Ring Nebula (planetaria): caparazón con polvo y gas\n",
    "\n",
    "(6) Horsehead Nebula (Barnard 33)\n",
    "\n",
    "(7) M57 – Ring Nebula\n",
    "\n",
    "(8) Orion Bar (M42)\n",
    "\n",
    "(9) NGC 346 – cúmulo estelar joven en la Pequeña Nube de Magallanes\n",
    "\n",
    "(10) HCG 92  –  Stephan’s Quintet\n"
   ]
  },
  {
   "cell_type": "markdown",
   "id": "78091444",
   "metadata": {},
   "source": [
    "## (1) NGC 3372 – Nebulosa de Carina"
   ]
  },
  {
   "cell_type": "markdown",
   "id": "e4da062b",
   "metadata": {},
   "source": [
    "## (2) NGC 1952 (M1) – Nebulosa del Cangrejo"
   ]
  },
  {
   "cell_type": "markdown",
   "id": "237b53cc",
   "metadata": {},
   "source": [
    "## (3) NGC 6611 (M16) – Pillars of Creation"
   ]
  },
  {
   "cell_type": "markdown",
   "id": "715dea98",
   "metadata": {},
   "source": [
    "## (4) Tarantula Nebula – 30 Doradus "
   ]
  },
  {
   "cell_type": "markdown",
   "id": "0493f3e1",
   "metadata": {},
   "source": [
    "## (5) NGC 3132 – Southern Ring Nebula"
   ]
  },
  {
   "cell_type": "markdown",
   "id": "11fa9585",
   "metadata": {},
   "source": [
    "## (6) Horsehead Nebula"
   ]
  },
  {
   "cell_type": "markdown",
   "id": "59b01d1b",
   "metadata": {},
   "source": [
    "## (7) M57 – Ring Nebula"
   ]
  },
  {
   "cell_type": "markdown",
   "id": "f0845ce4",
   "metadata": {},
   "source": [
    "## (8) Orion Bar (M42)"
   ]
  },
  {
   "cell_type": "markdown",
   "id": "03f02ffd",
   "metadata": {},
   "source": [
    "## (9) NGC 346"
   ]
  },
  {
   "cell_type": "markdown",
   "id": "fb654190",
   "metadata": {},
   "source": [
    "## (10) HCG 92  –  Stephan’s Quintet"
   ]
  }
 ],
 "metadata": {
  "kernelspec": {
   "display_name": "Python 3 (ipykernel)",
   "language": "python",
   "name": "python3"
  },
  "language_info": {
   "codemirror_mode": {
    "name": "ipython",
    "version": 3
   },
   "file_extension": ".py",
   "mimetype": "text/x-python",
   "name": "python",
   "nbconvert_exporter": "python",
   "pygments_lexer": "ipython3",
   "version": "3.11.2"
  }
 },
 "nbformat": 4,
 "nbformat_minor": 5
}
