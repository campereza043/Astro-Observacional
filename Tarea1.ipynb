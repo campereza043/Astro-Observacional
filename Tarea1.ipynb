{
 "cells": [
  {
   "cell_type": "markdown",
   "id": "79f3d0d3",
   "metadata": {},
   "source": [
    "# Ejercicio\n",
    "\n",
    "Utilice la 3era ley de Kepler para determinar el periodo de la tierra alrededor del Sol\n",
    "\n",
    "$ T^2 = \\left( \\frac{4 \\pi^2}{G M_{sun}} \\right) r^3$\n",
    "\n",
    "Realice sus calculos utilizando el paquete $units$ de $astropy$ y entrege los resultados en unidades de segundos, minutos, horas, dias, semanas, años.\n"
   ]
  },
  {
   "cell_type": "code",
   "execution_count": 1,
   "id": "edc86ed6",
   "metadata": {},
   "outputs": [],
   "source": [
    "from numpy import*\n",
    "from astropy import*\n",
    "from astropy import constants as const\n",
    "from astropy import units as u"
   ]
  },
  {
   "cell_type": "code",
   "execution_count": 2,
   "id": "212f9e35",
   "metadata": {},
   "outputs": [],
   "source": [
    "T = 2 * pi * (const.au**3 / (const.G * const.M_sun))**0.5"
   ]
  },
  {
   "cell_type": "code",
   "execution_count": 4,
   "id": "4680a613",
   "metadata": {},
   "outputs": [
    {
     "name": "stdout",
     "output_type": "stream",
     "text": [
      "31558196.02038122 s\n"
     ]
    }
   ],
   "source": [
    "print(T)"
   ]
  },
  {
   "cell_type": "code",
   "execution_count": 3,
   "id": "3ab1abdc",
   "metadata": {},
   "outputs": [
    {
     "name": "stdout",
     "output_type": "stream",
     "text": [
      "El periodo en segundos es: 31558196.02038122 s\n",
      "El periodo en minutos es: 525969.9336730203 min\n",
      "El periodo en horas es: 8766.165561217005 h\n",
      "El periodo en dias es: 365.2568983840419 d\n",
      "El periodo en semanas es: 52.179556912005985 wk\n",
      "El periodo en años es: 1.000018886746179 yr\n"
     ]
    }
   ],
   "source": [
    "print(\"El periodo en segundos es:\", T.to(u.s))\n",
    "print(\"El periodo en minutos es:\", T.to(u.min))\n",
    "print(\"El periodo en horas es:\", T.to(u.h))\n",
    "print(\"El periodo en dias es:\", T.to(u.day))\n",
    "print(\"El periodo en semanas es:\", T.to(u.week))\n",
    "print(\"El periodo en años es:\", T.to(u.yr))"
   ]
  },
  {
   "cell_type": "markdown",
   "id": "c9aa390e",
   "metadata": {},
   "source": [
    "## Ejercicio\n",
    "\n",
    "Utilice el paquete units de astropy y halle la energía de un foton $H_{\\alpha}$, $H_{\\beta}$, $H_{\\gamma}$ y $H_{\\delta}$ en términos de MeV y Joules"
   ]
  },
  {
   "cell_type": "code",
   "execution_count": 6,
   "id": "a91397d0",
   "metadata": {},
   "outputs": [],
   "source": [
    "# Longitudes de onda de las líneas de Balmer\n",
    "l_Ha = 656.28*u.nm\n",
    "l_Hb = 486.13*u.nm\n",
    "l_Hg = 434.05*u.nm\n",
    "l_Hd = 410.17*u.nm"
   ]
  },
  {
   "cell_type": "markdown",
   "id": "c04c7042",
   "metadata": {},
   "source": [
    "$E=h \\cdot \\nu$"
   ]
  },
  {
   "cell_type": "markdown",
   "id": "c5f90001",
   "metadata": {},
   "source": [
    "$c=\\lambda \\cdot \\nu$"
   ]
  },
  {
   "cell_type": "markdown",
   "id": "25afe4b0",
   "metadata": {},
   "source": [
    "$\\nu = \\frac{c}{\\lambda}$"
   ]
  },
  {
   "cell_type": "markdown",
   "id": "ab266d08",
   "metadata": {},
   "source": [
    "$E=\\frac{h\\cdot c}{\\lambda}$"
   ]
  },
  {
   "cell_type": "code",
   "execution_count": 7,
   "id": "91c071dd",
   "metadata": {},
   "outputs": [],
   "source": [
    "# Energías de las líneas de Balmer\n",
    "E_Ha = (const.h * const.c) / l_Ha.to(u.m)\n",
    "E_Hb = (const.h * const.c) / l_Hb.to(u.m)\n",
    "E_Hg = (const.h * const.c) / l_Hg.to(u.m)\n",
    "E_Hd = (const.h * const.c) / l_Hd.to(u.m)"
   ]
  },
  {
   "cell_type": "code",
   "execution_count": 8,
   "id": "b1c9b90b",
   "metadata": {},
   "outputs": [
    {
     "name": "stdout",
     "output_type": "stream",
     "text": [
      "Energía de la línea Hα en Joules: 3.0268267464328158e-19 J\n",
      "Energía de la línea Hα en eV: 1.8891966604680968 eV\n"
     ]
    }
   ],
   "source": [
    "print(\"Energía de la línea Hα en Joules:\", E_Ha)\n",
    "print(\"Energía de la línea Hα en eV:\", E_Ha.to(u.eV))"
   ]
  },
  {
   "cell_type": "code",
   "execution_count": 9,
   "id": "988ae672",
   "metadata": {},
   "outputs": [
    {
     "name": "stdout",
     "output_type": "stream",
     "text": [
      "Energía de la línea HB en Joules: 4.0862441263631717e-19 J\n",
      "Energía de la línea HB en eV: 2.5504329795157727 eV\n"
     ]
    }
   ],
   "source": [
    "print(\"Energía de la línea HB en Joules:\", E_Hb)\n",
    "print(\"Energía de la línea HB en eV:\", E_Hb.to(u.eV))"
   ]
  },
  {
   "cell_type": "code",
   "execution_count": 10,
   "id": "9d238f6b",
   "metadata": {},
   "outputs": [
    {
     "name": "stdout",
     "output_type": "stream",
     "text": [
      "Energía de la línea Hg en Joules: 4.576536936179998e-19 J\n",
      "Energía de la línea Hg en eV: 2.8564496816772316 eV\n"
     ]
    }
   ],
   "source": [
    "print(\"Energía de la línea Hg en Joules:\", E_Hg)\n",
    "print(\"Energía de la línea Hg en eV:\", E_Hg.to(u.eV))"
   ]
  },
  {
   "cell_type": "code",
   "execution_count": 11,
   "id": "f91df0ca",
   "metadata": {},
   "outputs": [
    {
     "name": "stdout",
     "output_type": "stream",
     "text": [
      "Energía de la línea Hd en Joules: 4.842981829848425e-19 J\n",
      "Energía de la línea Hd en eV: 3.022751503844754 eV\n"
     ]
    }
   ],
   "source": [
    "print(\"Energía de la línea Hd en Joules:\", E_Hd)\n",
    "print(\"Energía de la línea Hd en eV:\", E_Hd.to(u.eV))"
   ]
  },
  {
   "cell_type": "markdown",
   "id": "869fd696",
   "metadata": {},
   "source": [
    "## Ejercicio\n",
    "\n",
    "Encuentre el periodo orbital de los siguientes planetas considerando su distancia promedio al Sol"
   ]
  },
  {
   "cell_type": "code",
   "execution_count": 12,
   "id": "6ecda88e",
   "metadata": {},
   "outputs": [],
   "source": [
    "# Distancias orbitales promedio (semiejes mayores) en au (NASA/JPL 2021)\n",
    "# Lista de planetas del sistema solar\n",
    "distances = {\n",
    "    'Mercury': 0.387 * u.au,\n",
    "    'Venus':   0.723 * u.au,\n",
    "    'Earth':   1.000 * u.au,  # Definición de la unidad astronómica\n",
    "    'Mars':    1.524 * u.au,\n",
    "    'Jupiter': 5.203 * u.au,\n",
    "    'Saturn':  9.537 * u.au,\n",
    "    'Uranus': 19.191 * u.au,\n",
    "    'Neptune':30.069 * u.au,\n",
    "    'Pluto':  39.482 * u.au  # (Planeta enano)\n",
    "}"
   ]
  },
  {
   "cell_type": "code",
   "execution_count": 5,
   "id": "72c74e0f",
   "metadata": {},
   "outputs": [
    {
     "name": "stdout",
     "output_type": "stream",
     "text": [
      "  Name   = Astronomical Unit\n",
      "  Value  = 149597870700.0\n",
      "  Uncertainty  = 0.0\n",
      "  Unit  = m\n",
      "  Reference = IAU 2012 Resolution B2\n"
     ]
    }
   ],
   "source": [
    "print(const.au)"
   ]
  },
  {
   "cell_type": "code",
   "execution_count": 17,
   "id": "33f1a4b4",
   "metadata": {},
   "outputs": [
    {
     "name": "stdout",
     "output_type": "stream",
     "text": [
      "Periodos orbitales de los planetas del sistema solar en años:\n",
      "Periodo orbital de Mercurio: 0.24075463109786602 yr \n",
      "Periodo orbital de Venus: 0.6147742211467803 yr \n",
      "Periodo orbital de la Tierra: 1.0000188867461788 yr \n",
      "Periodo orbital de Marte: 1.8814195514387937 yr \n",
      "Periodo orbital de Júpiter: 11.868311629305916 yr \n",
      "Periodo orbital de Saturno: 29.45275171170832 yr \n",
      "Periodo orbital de Urano: 84.07262555758882 yr \n",
      "Periodo orbital de Neptuno: 164.88710005910107 yr \n",
      "Periodo orbital de Plutón: 248.08866299094632 yr\n"
     ]
    }
   ],
   "source": [
    "print(\"Periodos orbitales de los planetas del sistema solar en años:\")\n",
    "print(\"Periodo orbital de Mercurio:\", (2 * pi * (distances['Mercury']**3 / (const.G * const.M_sun))**0.5).to(u.yr),\n",
    "\"\\n\"\"Periodo orbital de Venus:\", (2 * pi * (distances['Venus']**3 / (const.G * const.M_sun))**0.5).to(u.yr),\n",
    "\"\\n\"\"Periodo orbital de la Tierra:\", (2 * pi * (distances['Earth']**3 / (const.G * const.M_sun))**0.5).to(u.yr),\n",
    "\"\\n\"\"Periodo orbital de Marte:\", (2 * pi * (distances['Mars']**3 / (const.G * const.M_sun))**0.5).to(u.yr),\n",
    "\"\\n\"\"Periodo orbital de Júpiter:\", (2 * pi * (distances['Jupiter']**3 / (const.G * const.M_sun))**0.5).to(u.yr),\n",
    "\"\\n\"\"Periodo orbital de Saturno:\", (2 * pi * (distances['Saturn']**3 / (const.G * const.M_sun))**0.5).to(u.yr),\n",
    "\"\\n\"\"Periodo orbital de Urano:\", (2 * pi * (distances['Uranus']**3 / (const.G * const.M_sun))**0.5).to(u.yr),\n",
    "\"\\n\"\"Periodo orbital de Neptuno:\", (2 * pi * (distances['Neptune']**3 / (const.G * const.M_sun))**0.5).to(u.yr),\n",
    "\"\\n\"\"Periodo orbital de Plutón:\", (2 * pi * (distances['Pluto']**3 / (const.G * const.M_sun))**0.5).to(u.yr))"
   ]
  },
  {
   "cell_type": "code",
   "execution_count": 18,
   "id": "f2ba5531",
   "metadata": {},
   "outputs": [
    {
     "name": "stdout",
     "output_type": "stream",
     "text": [
      "Periodos orbitales de los planetas del sistema solar en segundos:\n",
      "Periodo orbital de Mercurio: 7597638.346334018 s \n",
      "Periodo orbital de Venus: 19400798.961261634 s \n",
      "Periodo orbital de la Tierra: 31558196.020381216 s \n",
      "Periodo orbital de Marte: 59373085.636484884 s \n",
      "Periodo orbital de Júpiter: 374535431.0729844 s \n",
      "Periodo orbital de Saturno: 929458157.4174064 s \n",
      "Periodo orbital de Urano: 2653130288.296165 s \n",
      "Periodo orbital de Neptuno: 5203441148.8250885 s \n",
      "Periodo orbital de Plutón: 7829082791.203089 s\n"
     ]
    }
   ],
   "source": [
    "print(\"Periodos orbitales de los planetas del sistema solar en segundos:\")\n",
    "print(\"Periodo orbital de Mercurio:\", (2 * pi * (distances['Mercury']**3 / (const.G * const.M_sun))**0.5).to(u.s),\n",
    "\"\\n\"\"Periodo orbital de Venus:\", (2 * pi * (distances['Venus']**3 / (const.G * const.M_sun))**0.5).to(u.s),\n",
    "\"\\n\"\"Periodo orbital de la Tierra:\", (2 * pi * (distances['Earth']**3 / (const.G * const.M_sun))**0.5).to(u.s),\n",
    "\"\\n\"\"Periodo orbital de Marte:\", (2 * pi * (distances['Mars']**3 / (const.G * const.M_sun))**0.5).to(u.s),\n",
    "\"\\n\"\"Periodo orbital de Júpiter:\", (2 * pi * (distances['Jupiter']**3 / (const.G * const.M_sun))**0.5).to(u.s),\n",
    "\"\\n\"\"Periodo orbital de Saturno:\", (2 * pi * (distances['Saturn']**3 / (const.G * const.M_sun))**0.5).to(u.s),\n",
    "\"\\n\"\"Periodo orbital de Urano:\", (2 * pi * (distances['Uranus']**3 / (const.G * const.M_sun))**0.5).to(u.s),\n",
    "\"\\n\"\"Periodo orbital de Neptuno:\", (2 * pi * (distances['Neptune']**3 / (const.G * const.M_sun))**0.5).to(u.s),\n",
    "\"\\n\"\"Periodo orbital de Plutón:\", (2 * pi * (distances['Pluto']**3 / (const.G * const.M_sun))**0.5).to(u.s))"
   ]
  },
  {
   "cell_type": "code",
   "execution_count": 15,
   "id": "5bad38f1",
   "metadata": {},
   "outputs": [
    {
     "name": "stdout",
     "output_type": "stream",
     "text": [
      "El periodo orbital de Mercury es: 0.24075463109786602 yr\n",
      "El periodo orbital de Venus es: 0.6147742211467803 yr\n",
      "El periodo orbital de Earth es: 1.0000188867461788 yr\n",
      "El periodo orbital de Mars es: 1.8814195514387937 yr\n",
      "El periodo orbital de Jupiter es: 11.868311629305916 yr\n",
      "El periodo orbital de Saturn es: 29.45275171170832 yr\n",
      "El periodo orbital de Uranus es: 84.07262555758882 yr\n",
      "El periodo orbital de Neptune es: 164.88710005910107 yr\n",
      "El periodo orbital de Pluto es: 248.08866299094632 yr\n"
     ]
    }
   ],
   "source": [
    "for planet, r in distances.items():\n",
    "    T = 2 * pi * (r**3 / (const.G * const.M_sun))**0.5\n",
    "    print(f\"El periodo orbital de {planet} es: {T.to(u.yr)}\")"
   ]
  },
  {
   "cell_type": "code",
   "execution_count": 16,
   "id": "43bbc8c5",
   "metadata": {},
   "outputs": [
    {
     "name": "stdout",
     "output_type": "stream",
     "text": [
      "El periodo orbital de Mercury es: 7597638.346334018 s\n",
      "El periodo orbital de Venus es: 19400798.961261634 s\n",
      "El periodo orbital de Earth es: 31558196.020381216 s\n",
      "El periodo orbital de Mars es: 59373085.636484884 s\n",
      "El periodo orbital de Jupiter es: 374535431.0729844 s\n",
      "El periodo orbital de Saturn es: 929458157.4174064 s\n",
      "El periodo orbital de Uranus es: 2653130288.296165 s\n",
      "El periodo orbital de Neptune es: 5203441148.8250885 s\n",
      "El periodo orbital de Pluto es: 7829082791.203089 s\n"
     ]
    }
   ],
   "source": [
    "for planet, r in distances.items():\n",
    "    T = 2 * pi * (r**3 / (const.G * const.M_sun))**0.5\n",
    "    print(f\"El periodo orbital de {planet} es: {T.to(u.s)}\")"
   ]
  },
  {
   "cell_type": "markdown",
   "id": "f939354e",
   "metadata": {},
   "source": [
    "## Ejercicio\n",
    "\n",
    "Reescribir las siguientes masas en téminos de masas de la tierra"
   ]
  },
  {
   "cell_type": "code",
   "execution_count": 19,
   "id": "e6f2f7dc",
   "metadata": {},
   "outputs": [],
   "source": [
    "# Masas planetarias (NASA/JPL 2021) en kg\n",
    "M_mercury = 3.3011e23 * u.kg\n",
    "M_venus   = 4.8675e24 * u.kg\n",
    "M_mars    = 6.4171e23 * u.kg\n",
    "M_saturn  = 5.6834e26 * u.kg\n",
    "M_uranus  = 8.6810e25 * u.kg\n",
    "M_neptune = 1.0241e26 * u.kg"
   ]
  },
  {
   "cell_type": "code",
   "execution_count": 21,
   "id": "668959a4",
   "metadata": {},
   "outputs": [],
   "source": [
    "M_earth = const.M_earth"
   ]
  },
  {
   "cell_type": "code",
   "execution_count": 22,
   "id": "29e23d36",
   "metadata": {},
   "outputs": [],
   "source": [
    "M_mercury = M_mercury / M_earth\n",
    "M_venus   = M_venus / M_earth\n",
    "M_mars    = M_mars / M_earth\n",
    "M_saturn  = M_saturn / M_earth\n",
    "M_uranus  = M_uranus / M_earth\n",
    "M_neptune = M_neptune / M_earth"
   ]
  },
  {
   "cell_type": "code",
   "execution_count": 23,
   "id": "03b07b37",
   "metadata": {},
   "outputs": [
    {
     "name": "stdout",
     "output_type": "stream",
     "text": [
      "La masa de mercurio es de 0.05527473562495171 M_e\n",
      "La masa de venus es de 0.8150306735768454 M_e\n",
      "La masa de marte es de 0.10745009420462197 M_e\n",
      "La masa de saturno es de 95.16477309104557 M_e\n",
      "La masa de urano es de 14.535760199939588 M_e\n",
      "La masa de neptuno es de 17.147876996611142 M_e\n"
     ]
    }
   ],
   "source": [
    "print(\"La masa de mercurio es de\", M_mercury, \"M_e\")\n",
    "print(\"La masa de venus es de\", M_venus, \"M_e\")\n",
    "print(\"La masa de marte es de\", M_mars, \"M_e\")  \n",
    "print(\"La masa de saturno es de\", M_saturn, \"M_e\")\n",
    "print(\"La masa de urano es de\", M_uranus, \"M_e\")\n",
    "print(\"La masa de neptuno es de\", M_neptune, \"M_e\")"
   ]
  },
  {
   "cell_type": "markdown",
   "id": "063bace5",
   "metadata": {},
   "source": [
    "## Ejercicio\n",
    "\n",
    "para el siguiente grupo de estrellas realice la transformada de coordenadas a Galacticas y Azimutales (para un observador en Bogotá y en el día y hora de realización de este taller).\n",
    "\n",
    "* HD 124897 (Arcturus, tercera estrella mas brillante; 36.7 AL)\n",
    "* HD 129357 (Estrella tipo G como el Sol; 154 AL)\n",
    "* HD 164595 (Estrella tipo G como el Sol; 94.4 AL)\n",
    "* HIP 16537 (Epsilon Eridani, décima estrella más cercana; 10.5 AL)\n",
    "* HIP 87937 (Barnard, segunda estrella más cercana; 5.96 AL)"
   ]
  },
  {
   "cell_type": "code",
   "execution_count": 24,
   "id": "8292ecd7",
   "metadata": {},
   "outputs": [],
   "source": [
    "from astropy.coordinates import SkyCoord"
   ]
  },
  {
   "cell_type": "code",
   "execution_count": 25,
   "id": "750fed84",
   "metadata": {},
   "outputs": [],
   "source": [
    "from astropy.time import Time\n",
    "from astropy.coordinates import EarthLocation, AltAz"
   ]
  },
  {
   "cell_type": "code",
   "execution_count": 26,
   "id": "ac7b8056",
   "metadata": {},
   "outputs": [
    {
     "name": "stdout",
     "output_type": "stream",
     "text": [
      "<SkyCoord (ICRS): (ra, dec) in deg\n",
      "    (213.9153003, 19.18240916)>\n",
      "213d54m55.081062s\n",
      "19d10m56.6729832s\n",
      "<SkyCoord (Galactic): (l, b) in deg\n",
      "    (15.05005923, 69.11129459)>\n",
      "69d06m40.66052742s\n",
      "15d03m00.213224s\n",
      "<SkyCoord (AltAz: obstime=2025-09-06 15:00:00.000, location=(1744590.1998843383, -6116327.524300839, 509420.78724300175) m, pressure=0.0 hPa, temperature=0.0 deg_C, relative_humidity=0.0, obswl=1.0 micron): (az, alt) in deg\n",
      "    (71.47828942, 13.46028053)>\n",
      "13d27m37.00989864s\n",
      "71d28m41.84192696s\n"
     ]
    }
   ],
   "source": [
    "Arcturus = SkyCoord.from_name(\"HD 124897\")\n",
    "print(Arcturus)\n",
    "# Obtener RA y Dec\n",
    "ra = Arcturus.ra\n",
    "dec = Arcturus.dec\n",
    "print(ra)\n",
    "print(dec)\n",
    "\n",
    "# Coordenadas galácticas\n",
    "galactic = Arcturus.galactic\n",
    "print(galactic)\n",
    "b = Arcturus.galactic.b\n",
    "l = Arcturus.galactic.l\n",
    "print(b)\n",
    "print(l)\n",
    "\n",
    "# Coordenadas azimutales\n",
    "Bogota = EarthLocation(lat=4.61*u.deg, lon=-74.08*u.deg, height=2640*u.m)\n",
    "time = Time(\"2025-09-06 15:00:00\") # Fecha y hora \n",
    "\n",
    "altaz = AltAz(obstime=time, location=Bogota)\n",
    "print(Arcturus.transform_to(altaz))\n",
    "Alt = Arcturus.transform_to(altaz).alt\n",
    "Az = Arcturus.transform_to(altaz).az\n",
    "print(Alt)\n",
    "print(Az)"
   ]
  },
  {
   "cell_type": "code",
   "execution_count": 27,
   "id": "62d6dfce",
   "metadata": {},
   "outputs": [
    {
     "name": "stdout",
     "output_type": "stream",
     "text": [
      "<SkyCoord (ICRS): (ra, dec) in deg\n",
      "    (220.34333853, 29.05880479)>\n",
      "220d20m36.01871786s\n",
      "29d03m31.69724926s\n",
      "<SkyCoord (Galactic): (l, b) in deg\n",
      "    (43.96722019, 65.73196886)>\n",
      "65d43m55.08791244s\n",
      "43d58m01.99269759s\n",
      "<SkyCoord (AltAz: obstime=2025-09-06 15:00:00.000, location=(1744590.1998843383, -6116327.524300839, 509420.78724300175) m, pressure=0.0 hPa, temperature=0.0 deg_C, relative_humidity=0.0, obswl=1.0 micron): (az, alt) in deg\n",
      "    (61.3692066, 7.69963737)>\n",
      "7d41m58.69452678s\n",
      "61d22m09.14374785s\n"
     ]
    }
   ],
   "source": [
    "Estrella2 = SkyCoord.from_name(\"HD 129357\")\n",
    "print(Estrella2)\n",
    "#Obtener RA y Dec\n",
    "ra = Estrella2.ra\n",
    "dec = Estrella2.dec\n",
    "print(ra)\n",
    "print(dec)\n",
    "\n",
    "#Coordenadas galácticas\n",
    "print(Estrella2.galactic)\n",
    "b = Estrella2.galactic.b\n",
    "l = Estrella2.galactic.l\n",
    "print(b)\n",
    "print(l)\n",
    "\n",
    "#Coordenadas azimutales\n",
    "print(Estrella2.transform_to(altaz))\n",
    "Alt = Estrella2.transform_to(altaz).alt\n",
    "Az = Estrella2.transform_to(altaz).az\n",
    "print(Alt)\n",
    "print(Az)"
   ]
  },
  {
   "cell_type": "code",
   "execution_count": 28,
   "id": "307bf96e",
   "metadata": {},
   "outputs": [
    {
     "name": "stdout",
     "output_type": "stream",
     "text": [
      "<SkyCoord (ICRS): (ra, dec) in deg\n",
      "    (270.16206038, 29.57192273)>\n",
      "270d09m43.41737347s\n",
      "29d34m18.92182904s\n",
      "<SkyCoord (Galactic): (l, b) in deg\n",
      "    (55.46685125, 23.27684486)>\n",
      "23d16m36.64148849s\n",
      "55d28m00.66449801s\n",
      "<SkyCoord (AltAz: obstime=2025-09-06 15:00:00.000, location=(1744590.1998843383, -6116327.524300839, 509420.78724300175) m, pressure=0.0 hPa, temperature=0.0 deg_C, relative_humidity=0.0, obswl=1.0 micron): (az, alt) in deg\n",
      "    (49.41595303, -33.87959353)>\n",
      "-33d52m46.53670433s\n",
      "49d24m57.43089407s\n"
     ]
    }
   ],
   "source": [
    "Estrella3 = SkyCoord.from_name(\"HD 164595\")\n",
    "print(Estrella3)\n",
    "#Obtener RA y Dec\n",
    "ra = Estrella3.ra\n",
    "dec = Estrella3.dec\n",
    "print(ra)\n",
    "print(dec)\n",
    "\n",
    "#Coordenadas galácticas\n",
    "print(Estrella3.galactic)\n",
    "b = Estrella3.galactic.b\n",
    "l = Estrella3.galactic.l\n",
    "print(b)\n",
    "print(l)\n",
    "\n",
    "#Coordenadas azimutales\n",
    "Estrella3.transform_to(altaz)\n",
    "print(Estrella3.transform_to(altaz))\n",
    "Alt = Estrella3.transform_to(altaz).alt\n",
    "Az = Estrella3.transform_to(altaz).az\n",
    "print(Alt)\n",
    "print(Az)"
   ]
  },
  {
   "cell_type": "code",
   "execution_count": 29,
   "id": "e26bf5be",
   "metadata": {},
   "outputs": [
    {
     "name": "stdout",
     "output_type": "stream",
     "text": [
      "<SkyCoord (ICRS): (ra, dec) in deg\n",
      "    (53.23268538, -9.45826097)>\n",
      "53d13m57.66736738s\n",
      "-9d27m29.73949387s\n",
      "<SkyCoord (Galactic): (l, b) in deg\n",
      "    (195.84464069, -48.05129995)>\n",
      "-48d03m04.6798288s\n",
      "195d50m40.70648363s\n",
      "<SkyCoord (AltAz: obstime=2025-09-06 15:00:00.000, location=(1744590.1998843383, -6116327.524300839, 509420.78724300175) m, pressure=0.0 hPa, temperature=0.0 deg_C, relative_humidity=0.0, obswl=1.0 micron): (az, alt) in deg\n",
      "    (260.076421, 5.80357843)>\n",
      "5d48m12.88233156s\n",
      "260d04m35.11561504s\n"
     ]
    }
   ],
   "source": [
    "Epsilon_Eridani = SkyCoord.from_name(\"HIP 16537\")\n",
    "print(Epsilon_Eridani)\n",
    "#Obtener RA y Dec\n",
    "ra = Epsilon_Eridani.ra\n",
    "dec = Epsilon_Eridani.dec\n",
    "print(ra)\n",
    "print(dec)\n",
    "\n",
    "\n",
    "#Coordenadas galácticas\n",
    "print(Epsilon_Eridani.galactic)\n",
    "b = Epsilon_Eridani.galactic.b\n",
    "l = Epsilon_Eridani.galactic.l\n",
    "print(b)\n",
    "print(l)\n",
    "\n",
    "#Coordenadas azimutales\n",
    "Epsilon_Eridani.transform_to(altaz)\n",
    "print(Epsilon_Eridani.transform_to(altaz))\n",
    "Alt = Epsilon_Eridani.transform_to(altaz).alt\n",
    "Az = Epsilon_Eridani.transform_to(altaz).az\n",
    "print(Alt)\n",
    "print(Az)"
   ]
  },
  {
   "cell_type": "code",
   "execution_count": 30,
   "id": "683108d9",
   "metadata": {},
   "outputs": [
    {
     "name": "stdout",
     "output_type": "stream",
     "text": [
      "<SkyCoord (ICRS): (ra, dec) in deg\n",
      "    (269.45207696, 4.69336497)>\n",
      "269d27m07.477056s\n",
      "4d41m36.113892s\n",
      "<SkyCoord (Galactic): (l, b) in deg\n",
      "    (31.00870272, 14.06265102)>\n",
      "14d03m45.54365465s\n",
      "31d00m31.32979767s\n",
      "<SkyCoord (AltAz: obstime=2025-09-06 15:00:00.000, location=(1744590.1998843383, -6116327.524300839, 509420.78724300175) m, pressure=0.0 hPa, temperature=0.0 deg_C, relative_humidity=0.0, obswl=1.0 micron): (az, alt) in deg\n",
      "    (79.44408145, -42.03589385)>\n",
      "-42d02m09.21785221s\n",
      "79d26m38.69321754s\n"
     ]
    }
   ],
   "source": [
    "Barnard = SkyCoord.from_name(\"HIP 87937\")\n",
    "print(Barnard)\n",
    "#Obtener RA y Dec\n",
    "ra = Barnard.ra\n",
    "dec = Barnard.dec\n",
    "print(ra)\n",
    "print(dec)\n",
    "\n",
    "#Coordenadas galácticas\n",
    "print(Barnard.galactic)\n",
    "b = Barnard.galactic.b\n",
    "l = Barnard.galactic.l\n",
    "print(b)\n",
    "print(l)\n",
    "\n",
    "#Coordenadas azimutales\n",
    "Barnard.transform_to(altaz)\n",
    "print(Barnard.transform_to(altaz))\n",
    "Alt = Barnard.transform_to(altaz).alt\n",
    "Az = Barnard.transform_to(altaz).az\n",
    "print(Alt)\n",
    "print(Az)"
   ]
  },
  {
   "cell_type": "code",
   "execution_count": 31,
   "id": "de91c2e4",
   "metadata": {},
   "outputs": [
    {
     "name": "stdout",
     "output_type": "stream",
     "text": [
      "\n",
      "HD 124897\n",
      "RA/Dec: 213d54m55.081062s 19d10m56.6729832s\n",
      "Galácticas: <SkyCoord (Galactic): (l, b) in deg\n",
      "    (15.05005923, 69.11129459)>\n",
      "Alt/Az Bogotá: 13d27m37.00989864s 71d28m41.84192696s\n",
      "\n",
      "HD 129357\n",
      "RA/Dec: 220d20m36.01871786s 29d03m31.69724926s\n",
      "Galácticas: <SkyCoord (Galactic): (l, b) in deg\n",
      "    (43.96722019, 65.73196886)>\n",
      "Alt/Az Bogotá: 7d41m58.69452678s 61d22m09.14374785s\n",
      "\n",
      "HD 164595\n",
      "RA/Dec: 270d09m43.41737347s 29d34m18.92182904s\n",
      "Galácticas: <SkyCoord (Galactic): (l, b) in deg\n",
      "    (55.46685125, 23.27684486)>\n",
      "Alt/Az Bogotá: -33d52m46.53670433s 49d24m57.43089407s\n",
      "\n",
      "HIP 16537\n",
      "RA/Dec: 53d13m57.66736738s -9d27m29.73949387s\n",
      "Galácticas: <SkyCoord (Galactic): (l, b) in deg\n",
      "    (195.84464069, -48.05129995)>\n",
      "Alt/Az Bogotá: 5d48m12.88233156s 260d04m35.11561504s\n",
      "\n",
      "HIP 87937\n",
      "RA/Dec: 269d27m07.477056s 4d41m36.113892s\n",
      "Galácticas: <SkyCoord (Galactic): (l, b) in deg\n",
      "    (31.00870272, 14.06265102)>\n",
      "Alt/Az Bogotá: -42d02m09.21785221s 79d26m38.69321754s\n"
     ]
    }
   ],
   "source": [
    "Bogota = EarthLocation(lat=4.61*u.deg, lon=-74.08*u.deg, height=2640*u.m)\n",
    "time = Time(\"2025-09-06 15:00:00\")\n",
    "\n",
    "stars = [\n",
    "    \"HD 124897\",  # Arcturus\n",
    "    \"HD 129357\",\n",
    "    \"HD 164595\",\n",
    "    \"HIP 16537\",  # Epsilon Eridani\n",
    "    \"HIP 87937\"   # Barnard\n",
    "]\n",
    "\n",
    "for name in stars:\n",
    "    s = SkyCoord.from_name(name)\n",
    "    print(f\"\\n{name}\")\n",
    "    print(\"RA/Dec:\", s.ra, s.dec)\n",
    "    print(\"Galácticas:\", s.galactic)\n",
    "    altaz = s.transform_to(AltAz(obstime=time, location=Bogota))\n",
    "    print(\"Alt/Az Bogotá:\", altaz.alt, altaz.az)"
   ]
  },
  {
   "cell_type": "markdown",
   "id": "727b2079",
   "metadata": {},
   "source": [
    "El sistema CODATA (Comité de Datos para la Ciencia y la Tecnología) es una organización internacional que periódicamente publica los valores más precisos de las constantes físicas fundamentales. El CODATA 2018 se refiere a la publicación de los valores recomendados de estas constantes en 2018, que fue crucial para la redefinición del Sistema Internacional de Unidades (SI). \n",
    "\n",
    "Cada cuatro años, CODATA reúne a expertos de todo el mundo para revisar y actualizar los valores de las constantes fundamentales. Utilizan los resultados de los experimentos más precisos para calcular los valores más exactos posibles. Proporcionando un conjunto de valores consistentes y fiables que sirven como base para toda la ciencia y la tecnología a nivel mundial."
   ]
  },
  {
   "cell_type": "markdown",
   "id": "1353ca2a",
   "metadata": {},
   "source": [
    "El Sistema Internacional de Referencia Celeste (ICRS) es un sistema de coordenadas celestes inercial, lo que significa que no se mueve con respecto a un observador en el espacio. Su centro es el baricentro del sistema solar, y sus ejes están definidos de manera que permanecen fijos con respecto a objetos celestes muy distantes. Esto es fundamental para que las posiciones de estrellas, planetas y naves espaciales puedan ser medidas y registradas de forma precisa y consistente a lo largo del tiempo.\n"
   ]
  }
 ],
 "metadata": {
  "kernelspec": {
   "display_name": "Python 3",
   "language": "python",
   "name": "python3"
  },
  "language_info": {
   "codemirror_mode": {
    "name": "ipython",
    "version": 3
   },
   "file_extension": ".py",
   "mimetype": "text/x-python",
   "name": "python",
   "nbconvert_exporter": "python",
   "pygments_lexer": "ipython3",
   "version": "3.12.10"
  }
 },
 "nbformat": 4,
 "nbformat_minor": 5
}
