{
 "cells": [
  {
   "cell_type": "markdown",
   "id": "c850fc1d",
   "metadata": {},
   "source": [
    "#  Tutorial unidades y coordenadas en astropy"
   ]
  },
  {
   "cell_type": "code",
   "execution_count": 3,
   "id": "007b0fe3",
   "metadata": {},
   "outputs": [
    {
     "name": "stderr",
     "output_type": "stream",
     "text": [
      "\n",
      "[notice] A new release of pip is available: 25.0.1 -> 25.2\n",
      "[notice] To update, run: C:\\Users\\perez\\AppData\\Local\\Microsoft\\WindowsApps\\PythonSoftwareFoundation.Python.3.12_qbz5n2kfra8p0\\python.exe -m pip install --upgrade pip\n"
     ]
    },
    {
     "name": "stdout",
     "output_type": "stream",
     "text": [
      "Defaulting to user installation because normal site-packages is not writeable\n",
      "Requirement already satisfied: astropy[recommended] in c:\\users\\perez\\appdata\\local\\packages\\pythonsoftwarefoundation.python.3.12_qbz5n2kfra8p0\\localcache\\local-packages\\python312\\site-packages (7.1.0)\n",
      "Requirement already satisfied: numpy>=1.23.2 in c:\\users\\perez\\appdata\\local\\packages\\pythonsoftwarefoundation.python.3.12_qbz5n2kfra8p0\\localcache\\local-packages\\python312\\site-packages (from astropy[recommended]) (2.3.2)\n",
      "Requirement already satisfied: pyerfa>=2.0.1.1 in c:\\users\\perez\\appdata\\local\\packages\\pythonsoftwarefoundation.python.3.12_qbz5n2kfra8p0\\localcache\\local-packages\\python312\\site-packages (from astropy[recommended]) (2.0.1.5)\n",
      "Requirement already satisfied: astropy-iers-data>=0.2025.4.28.0.37.27 in c:\\users\\perez\\appdata\\local\\packages\\pythonsoftwarefoundation.python.3.12_qbz5n2kfra8p0\\localcache\\local-packages\\python312\\site-packages (from astropy[recommended]) (0.2025.9.1.0.42.11)\n",
      "Requirement already satisfied: PyYAML>=6.0.0 in c:\\users\\perez\\appdata\\local\\packages\\pythonsoftwarefoundation.python.3.12_qbz5n2kfra8p0\\localcache\\local-packages\\python312\\site-packages (from astropy[recommended]) (6.0.2)\n",
      "Requirement already satisfied: packaging>=22.0.0 in c:\\users\\perez\\appdata\\local\\packages\\pythonsoftwarefoundation.python.3.12_qbz5n2kfra8p0\\localcache\\local-packages\\python312\\site-packages (from astropy[recommended]) (25.0)\n",
      "Requirement already satisfied: scipy>=1.9.2 in c:\\users\\perez\\appdata\\local\\packages\\pythonsoftwarefoundation.python.3.12_qbz5n2kfra8p0\\localcache\\local-packages\\python312\\site-packages (from astropy[recommended]) (1.16.1)\n",
      "Requirement already satisfied: matplotlib>=3.6.0 in c:\\users\\perez\\appdata\\local\\packages\\pythonsoftwarefoundation.python.3.12_qbz5n2kfra8p0\\localcache\\local-packages\\python312\\site-packages (from astropy[recommended]) (3.10.6)\n",
      "Requirement already satisfied: contourpy>=1.0.1 in c:\\users\\perez\\appdata\\local\\packages\\pythonsoftwarefoundation.python.3.12_qbz5n2kfra8p0\\localcache\\local-packages\\python312\\site-packages (from matplotlib>=3.6.0->astropy[recommended]) (1.3.3)\n",
      "Requirement already satisfied: cycler>=0.10 in c:\\users\\perez\\appdata\\local\\packages\\pythonsoftwarefoundation.python.3.12_qbz5n2kfra8p0\\localcache\\local-packages\\python312\\site-packages (from matplotlib>=3.6.0->astropy[recommended]) (0.12.1)\n",
      "Requirement already satisfied: fonttools>=4.22.0 in c:\\users\\perez\\appdata\\local\\packages\\pythonsoftwarefoundation.python.3.12_qbz5n2kfra8p0\\localcache\\local-packages\\python312\\site-packages (from matplotlib>=3.6.0->astropy[recommended]) (4.59.2)\n",
      "Requirement already satisfied: kiwisolver>=1.3.1 in c:\\users\\perez\\appdata\\local\\packages\\pythonsoftwarefoundation.python.3.12_qbz5n2kfra8p0\\localcache\\local-packages\\python312\\site-packages (from matplotlib>=3.6.0->astropy[recommended]) (1.4.9)\n",
      "Requirement already satisfied: pillow>=8 in c:\\users\\perez\\appdata\\local\\packages\\pythonsoftwarefoundation.python.3.12_qbz5n2kfra8p0\\localcache\\local-packages\\python312\\site-packages (from matplotlib>=3.6.0->astropy[recommended]) (11.3.0)\n",
      "Requirement already satisfied: pyparsing>=2.3.1 in c:\\users\\perez\\appdata\\local\\packages\\pythonsoftwarefoundation.python.3.12_qbz5n2kfra8p0\\localcache\\local-packages\\python312\\site-packages (from matplotlib>=3.6.0->astropy[recommended]) (3.2.3)\n",
      "Requirement already satisfied: python-dateutil>=2.7 in c:\\users\\perez\\appdata\\local\\packages\\pythonsoftwarefoundation.python.3.12_qbz5n2kfra8p0\\localcache\\local-packages\\python312\\site-packages (from matplotlib>=3.6.0->astropy[recommended]) (2.9.0.post0)\n",
      "Requirement already satisfied: six>=1.5 in c:\\users\\perez\\appdata\\local\\packages\\pythonsoftwarefoundation.python.3.12_qbz5n2kfra8p0\\localcache\\local-packages\\python312\\site-packages (from python-dateutil>=2.7->matplotlib>=3.6.0->astropy[recommended]) (1.17.0)\n"
     ]
    }
   ],
   "source": [
    "#!pip install astropy[recommended] --upgrade\n",
    "from astropy import units as u"
   ]
  },
  {
   "cell_type": "code",
   "execution_count": 4,
   "id": "a29551dd",
   "metadata": {},
   "outputs": [],
   "source": [
    "q=42*u.meter "
   ]
  },
  {
   "cell_type": "code",
   "execution_count": 5,
   "id": "a690dd18",
   "metadata": {},
   "outputs": [
    {
     "name": "stdout",
     "output_type": "stream",
     "text": [
      "42.0 m\n"
     ]
    }
   ],
   "source": [
    "print(q)"
   ]
  },
  {
   "cell_type": "code",
   "execution_count": 6,
   "id": "3f81df07",
   "metadata": {},
   "outputs": [
    {
     "data": {
      "text/plain": [
       "np.float64(42.0)"
      ]
     },
     "execution_count": 6,
     "metadata": {},
     "output_type": "execute_result"
    }
   ],
   "source": [
    "q.value # valor numerico"
   ]
  },
  {
   "cell_type": "code",
   "execution_count": 7,
   "id": "338d8c74",
   "metadata": {},
   "outputs": [
    {
     "data": {
      "text/latex": [
       "$\\mathrm{m}$"
      ],
      "text/plain": [
       "Unit(\"m\")"
      ]
     },
     "execution_count": 7,
     "metadata": {},
     "output_type": "execute_result"
    }
   ],
   "source": [
    "q.unit # unidad"
   ]
  },
  {
   "cell_type": "code",
   "execution_count": 8,
   "id": "24713556",
   "metadata": {},
   "outputs": [],
   "source": [
    "d1=45*u.m # metros\n",
    "d2=5*u.m # metros\n",
    "time = 2*u.s  # segundos"
   ]
  },
  {
   "cell_type": "code",
   "execution_count": 9,
   "id": "ea69028a",
   "metadata": {},
   "outputs": [
    {
     "name": "stdout",
     "output_type": "stream",
     "text": [
      "20.0 m / s\n"
     ]
    }
   ],
   "source": [
    "speed = (d1-d2)/time # velocidad\n",
    "print(speed)"
   ]
  },
  {
   "cell_type": "code",
   "execution_count": 10,
   "id": "4cb5449f",
   "metadata": {},
   "outputs": [
    {
     "name": "stdout",
     "output_type": "stream",
     "text": [
      "72.0 km / h\n"
     ]
    }
   ],
   "source": [
    "print(speed.to(u.km/u.h)) # conversion de unidades"
   ]
  },
  {
   "cell_type": "code",
   "execution_count": 11,
   "id": "302aea30",
   "metadata": {},
   "outputs": [],
   "source": [
    "from astropy import constants as const"
   ]
  },
  {
   "cell_type": "code",
   "execution_count": 12,
   "id": "a2393715",
   "metadata": {},
   "outputs": [
    {
     "name": "stdout",
     "output_type": "stream",
     "text": [
      "  Name   = Gravitational constant\n",
      "  Value  = 6.6743e-11\n",
      "  Uncertainty  = 1.5e-15\n",
      "  Unit  = m3 / (kg s2)\n",
      "  Reference = CODATA 2018\n"
     ]
    }
   ],
   "source": [
    "print(const.G) # constante gravitacional"
   ]
  },
  {
   "cell_type": "code",
   "execution_count": 13,
   "id": "545a274f",
   "metadata": {},
   "outputs": [
    {
     "name": "stdout",
     "output_type": "stream",
     "text": [
      "  Name   = Planck constant\n",
      "  Value  = 6.62607015e-34\n",
      "  Uncertainty  = 0.0\n",
      "  Unit  = J s\n",
      "  Reference = CODATA 2018\n"
     ]
    }
   ],
   "source": [
    "print(const.h) # constante de Planck"
   ]
  },
  {
   "cell_type": "code",
   "execution_count": 14,
   "id": "e82683e1",
   "metadata": {},
   "outputs": [
    {
     "name": "stdout",
     "output_type": "stream",
     "text": [
      "  Name   = Speed of light in vacuum\n",
      "  Value  = 299792458.0\n",
      "  Uncertainty  = 0.0\n",
      "  Unit  = m / s\n",
      "  Reference = CODATA 2018\n"
     ]
    }
   ],
   "source": [
    "print(const.c) # velocidad de la luz"
   ]
  },
  {
   "cell_type": "code",
   "execution_count": 15,
   "id": "9477c98a",
   "metadata": {},
   "outputs": [
    {
     "name": "stdout",
     "output_type": "stream",
     "text": [
      "299792.458 km / s\n"
     ]
    }
   ],
   "source": [
    "print(const.c.to(u.km/u.s)) # conversion de unidades de la velocidad de la luz"
   ]
  },
  {
   "cell_type": "code",
   "execution_count": 16,
   "id": "5f512e3b",
   "metadata": {},
   "outputs": [
    {
     "name": "stdout",
     "output_type": "stream",
     "text": [
      "0.30660139378555057 pc / yr\n"
     ]
    }
   ],
   "source": [
    "print(const.c.to(u.pc/u.yr)) # conversion de unidades de la velocidad de la luz"
   ]
  },
  {
   "cell_type": "code",
   "execution_count": 17,
   "id": "788fa425",
   "metadata": {},
   "outputs": [
    {
     "name": "stdout",
     "output_type": "stream",
     "text": [
      "0.30660139378555057 pc / yr\n"
     ]
    }
   ],
   "source": [
    "print(const.c.to(\"pc/yr\")) # otra forma de hacer la conversion"
   ]
  },
  {
   "cell_type": "code",
   "execution_count": 18,
   "id": "cc93d635",
   "metadata": {},
   "outputs": [],
   "source": [
    "from astropy.constants import c, m_e"
   ]
  },
  {
   "cell_type": "code",
   "execution_count": 19,
   "id": "a5540201",
   "metadata": {},
   "outputs": [
    {
     "data": {
      "text/latex": [
       "$2.9979246 \\times 10^{8} \\; \\mathrm{\\frac{m}{s}}$"
      ],
      "text/plain": [
       "<<class 'astropy.constants.codata2018.CODATA2018'> name='Speed of light in vacuum' value=299792458.0 uncertainty=0.0 unit='m / s' reference='CODATA 2018'>"
      ]
     },
     "execution_count": 19,
     "metadata": {},
     "output_type": "execute_result"
    }
   ],
   "source": [
    "c"
   ]
  },
  {
   "cell_type": "code",
   "execution_count": 20,
   "id": "57622075",
   "metadata": {},
   "outputs": [
    {
     "data": {
      "text/latex": [
       "$9.1093837 \\times 10^{-31} \\; \\mathrm{kg}$"
      ],
      "text/plain": [
       "<<class 'astropy.constants.codata2018.CODATA2018'> name='Electron mass' value=9.1093837015e-31 uncertainty=2.8e-40 unit='kg' reference='CODATA 2018'>"
      ]
     },
     "execution_count": 20,
     "metadata": {},
     "output_type": "execute_result"
    }
   ],
   "source": [
    "m_e"
   ]
  },
  {
   "cell_type": "code",
   "execution_count": 21,
   "id": "cdd2aedb",
   "metadata": {},
   "outputs": [
    {
     "data": {
      "text/latex": [
       "$8.1871058 \\times 10^{-14} \\; \\mathrm{\\frac{m^{2}\\,kg}{s^{2}}}$"
      ],
      "text/plain": [
       "<Quantity 8.18710578e-14 m2 kg / s2>"
      ]
     },
     "execution_count": 21,
     "metadata": {},
     "output_type": "execute_result"
    }
   ],
   "source": [
    "m=m_e\n",
    "E=m * c**2\n",
    "E"
   ]
  },
  {
   "cell_type": "code",
   "execution_count": 22,
   "id": "0c0f7cb7",
   "metadata": {},
   "outputs": [
    {
     "name": "stdout",
     "output_type": "stream",
     "text": [
      "8.187105776823886e-14 m2 kg / s2\n"
     ]
    }
   ],
   "source": [
    "print(E)"
   ]
  },
  {
   "cell_type": "code",
   "execution_count": 23,
   "id": "59b8ed86",
   "metadata": {},
   "outputs": [
    {
     "data": {
      "text/latex": [
       "$0.51099895 \\; \\mathrm{MeV}$"
      ],
      "text/plain": [
       "<Quantity 0.51099895 MeV>"
      ]
     },
     "execution_count": 23,
     "metadata": {},
     "output_type": "execute_result"
    }
   ],
   "source": [
    "E.to(u.MeV)"
   ]
  },
  {
   "cell_type": "markdown",
   "id": "d515ea67",
   "metadata": {},
   "source": [
    "# Ejercicio\n",
    "\n",
    "Utilice la 3era ley de Kepler para determinar el periodo de la tierra alrededor del Sol\n",
    "\n",
    "$ T^2 = \\left( \\frac{4 \\pi^2}{G M_{sun}} \\right) r^3$\n",
    "\n",
    "Realice sus calculos utilizando el paquete $units$ de $astropy$ y entrege los resultados en unidades de segundos, minutos, horas, dias, semanas, años.\n"
   ]
  },
  {
   "cell_type": "code",
   "execution_count": 24,
   "id": "1ee21c79",
   "metadata": {},
   "outputs": [],
   "source": [
    "from numpy import*\n",
    "from astropy import*\n",
    "from astropy import constants as const"
   ]
  },
  {
   "cell_type": "code",
   "execution_count": 25,
   "id": "cdffa974",
   "metadata": {},
   "outputs": [
    {
     "data": {
      "text/latex": [
       "$6.6743 \\times 10^{-11} \\; \\mathrm{\\frac{m^{3}}{kg\\,s^{2}}}$"
      ],
      "text/plain": [
       "<<class 'astropy.constants.codata2018.CODATA2018'> name='Gravitational constant' value=6.6743e-11 uncertainty=1.5e-15 unit='m3 / (kg s2)' reference='CODATA 2018'>"
      ]
     },
     "execution_count": 25,
     "metadata": {},
     "output_type": "execute_result"
    }
   ],
   "source": [
    "const.G"
   ]
  },
  {
   "cell_type": "code",
   "execution_count": 26,
   "id": "68e14b28",
   "metadata": {},
   "outputs": [
    {
     "data": {
      "text/latex": [
       "$1.9884099 \\times 10^{30} \\; \\mathrm{kg}$"
      ],
      "text/plain": [
       "<<class 'astropy.constants.iau2015.IAU2015'> name='Solar mass' value=1.988409870698051e+30 uncertainty=4.468805426856864e+25 unit='kg' reference='IAU 2015 Resolution B 3 + CODATA 2018'>"
      ]
     },
     "execution_count": 26,
     "metadata": {},
     "output_type": "execute_result"
    }
   ],
   "source": [
    "const.M_sun"
   ]
  },
  {
   "cell_type": "code",
   "execution_count": 27,
   "id": "f8866364",
   "metadata": {},
   "outputs": [
    {
     "data": {
      "text/latex": [
       "$1.4959787 \\times 10^{11} \\; \\mathrm{m}$"
      ],
      "text/plain": [
       "<<class 'astropy.constants.iau2015.IAU2015'> name='Astronomical Unit' value=149597870700.0 uncertainty=0.0 unit='m' reference='IAU 2012 Resolution B2'>"
      ]
     },
     "execution_count": 27,
     "metadata": {},
     "output_type": "execute_result"
    }
   ],
   "source": [
    "const.au"
   ]
  },
  {
   "cell_type": "code",
   "execution_count": 28,
   "id": "1331377c",
   "metadata": {},
   "outputs": [],
   "source": [
    "T = 2 * pi * (const.au**3 / (const.G * const.M_sun))**0.5"
   ]
  },
  {
   "cell_type": "code",
   "execution_count": 29,
   "id": "ae65926a",
   "metadata": {},
   "outputs": [
    {
     "name": "stdout",
     "output_type": "stream",
     "text": [
      "El periodo en segundos es: 31558196.02038122 s\n",
      "El periodo en minutos es: 525969.9336730203 min\n",
      "El periodo en horas es: 8766.165561217005 h\n",
      "El periodo en dias es: 365.2568983840419 d\n",
      "El periodo en semanas es: 52.179556912005985 wk\n",
      "El periodo en años es: 1.000018886746179 yr\n"
     ]
    }
   ],
   "source": [
    "print(\"El periodo en segundos es:\", T.to(u.s))\n",
    "print(\"El periodo en minutos es:\", T.to(u.min))\n",
    "print(\"El periodo en horas es:\", T.to(u.h))\n",
    "print(\"El periodo en dias es:\", T.to(u.day))\n",
    "print(\"El periodo en semanas es:\", T.to(u.week))\n",
    "print(\"El periodo en años es:\", T.to(u.yr))"
   ]
  },
  {
   "cell_type": "markdown",
   "id": "392c2a2d",
   "metadata": {},
   "source": [
    "Lista de unidades de tiempo disponibles en Astropy:\n",
    "\n",
    "    u.second (s)\n",
    "\n",
    "    u.minute (min)\n",
    "\n",
    "    u.hour (h)\n",
    "\n",
    "    u.day (d)\n",
    "\n",
    "    u.week (semana)\n",
    "\n",
    "    u.year (año juliano)\n",
    "\n",
    "    u.yr (alias de año)\n",
    "    "
   ]
  },
  {
   "cell_type": "code",
   "execution_count": 30,
   "id": "19bf5beb",
   "metadata": {},
   "outputs": [],
   "source": [
    "from astropy.constants import M_earth, M_jup"
   ]
  },
  {
   "cell_type": "code",
   "execution_count": 31,
   "id": "39928939",
   "metadata": {},
   "outputs": [
    {
     "data": {
      "text/latex": [
       "$5.9721679 \\times 10^{24} \\; \\mathrm{kg}$"
      ],
      "text/plain": [
       "<<class 'astropy.constants.iau2015.IAU2015'> name='Earth mass' value=5.972167867791379e+24 uncertainty=1.3422009501651213e+20 unit='kg' reference='IAU 2015 Resolution B 3 + CODATA 2018'>"
      ]
     },
     "execution_count": 31,
     "metadata": {},
     "output_type": "execute_result"
    }
   ],
   "source": [
    "M_earth"
   ]
  },
  {
   "cell_type": "markdown",
   "id": "b80f78a0",
   "metadata": {},
   "source": [
    "## Ejercicio\n",
    "\n",
    "Utilice el paquete units de astropy y halle la energía de un foton $H_{\\alpha}$, $H_{\\beta}$, $H_{\\gamma}$ y $H_{\\delta}$ en términos de MeV y Joules"
   ]
  },
  {
   "cell_type": "code",
   "execution_count": 32,
   "id": "42b94010",
   "metadata": {},
   "outputs": [],
   "source": [
    "from astropy import units as u\n",
    "from astropy import constants as const"
   ]
  },
  {
   "cell_type": "code",
   "execution_count": 33,
   "id": "81afd3ae",
   "metadata": {},
   "outputs": [
    {
     "data": {
      "text/latex": [
       "$6.6260701 \\times 10^{-34} \\; \\mathrm{J\\,s}$"
      ],
      "text/plain": [
       "<<class 'astropy.constants.codata2018.CODATA2018'> name='Planck constant' value=6.62607015e-34 uncertainty=0.0 unit='J s' reference='CODATA 2018'>"
      ]
     },
     "execution_count": 33,
     "metadata": {},
     "output_type": "execute_result"
    }
   ],
   "source": [
    "const.h"
   ]
  },
  {
   "cell_type": "code",
   "execution_count": 34,
   "id": "24180efe",
   "metadata": {},
   "outputs": [],
   "source": [
    "# Longitudes de onda de las líneas de Balmer\n",
    "l_Ha = 656.28*u.nm\n",
    "l_Hb = 486.13*u.nm\n",
    "l_Hg = 434.05*u.nm\n",
    "l_Hd = 410.17*u.nm"
   ]
  },
  {
   "cell_type": "code",
   "execution_count": 35,
   "id": "fdd7c7d8",
   "metadata": {},
   "outputs": [],
   "source": [
    "# Energías de las líneas de Balmer\n",
    "E_Ha = (const.h * const.c) / l_Ha.to(u.m)\n",
    "E_Hb = (const.h * const.c) / l_Hb.to(u.m)\n",
    "E_Hg = (const.h * const.c) / l_Hg.to(u.m)\n",
    "E_Hd = (const.h * const.c) / l_Hd.to(u.m)"
   ]
  },
  {
   "cell_type": "code",
   "execution_count": 36,
   "id": "cf7e0a5e",
   "metadata": {},
   "outputs": [
    {
     "name": "stdout",
     "output_type": "stream",
     "text": [
      "Energía de la línea Hα en Joules: 3.0268267464328158e-19 J\n",
      "Energía de la línea Hα en eV: 1.8891966604680968 eV\n"
     ]
    }
   ],
   "source": [
    "print(\"Energía de la línea Hα en Joules:\", E_Ha)\n",
    "print(\"Energía de la línea Hα en eV:\", E_Ha.to(u.eV))"
   ]
  },
  {
   "cell_type": "code",
   "execution_count": 37,
   "id": "8d61320e",
   "metadata": {},
   "outputs": [
    {
     "name": "stdout",
     "output_type": "stream",
     "text": [
      "Energía de la línea HB en Joules: 4.0862441263631717e-19 J\n",
      "Energía de la línea HB en eV: 2.5504329795157727 eV\n"
     ]
    }
   ],
   "source": [
    "print(\"Energía de la línea HB en Joules:\", E_Hb)\n",
    "print(\"Energía de la línea HB en eV:\", E_Hb.to(u.eV))"
   ]
  },
  {
   "cell_type": "code",
   "execution_count": 38,
   "id": "f95710c9",
   "metadata": {},
   "outputs": [
    {
     "name": "stdout",
     "output_type": "stream",
     "text": [
      "Energía de la línea Hg en Joules: 4.576536936179998e-19 J\n",
      "Energía de la línea Hg en eV: 2.8564496816772316 eV\n"
     ]
    }
   ],
   "source": [
    "print(\"Energía de la línea Hg en Joules:\", E_Hg)\n",
    "print(\"Energía de la línea Hg en eV:\", E_Hg.to(u.eV))"
   ]
  },
  {
   "cell_type": "code",
   "execution_count": 39,
   "id": "1f22ec42",
   "metadata": {},
   "outputs": [
    {
     "name": "stdout",
     "output_type": "stream",
     "text": [
      "Energía de la línea Hd en Joules: 4.842981829848425e-19 J\n",
      "Energía de la línea Hd en eV: 3.022751503844754 eV\n"
     ]
    }
   ],
   "source": [
    "print(\"Energía de la línea Hd en Joules:\", E_Hd)\n",
    "print(\"Energía de la línea Hd en eV:\", E_Hd.to(u.eV))"
   ]
  },
  {
   "cell_type": "markdown",
   "id": "d8af252b",
   "metadata": {},
   "source": [
    "## Ejercicio\n",
    "\n",
    "Encuentre el periodo orbital de los siguientes planetas considerando su distancia promedio al Sol"
   ]
  },
  {
   "cell_type": "code",
   "execution_count": 40,
   "id": "b4b3e568",
   "metadata": {},
   "outputs": [],
   "source": [
    "# Distancias orbitales promedio (semiejes mayores) en au (NASA/JPL 2021)\n",
    "# Lista de planetas del sistema solar\n",
    "distances = {\n",
    "    'Mercury': 0.387 * u.au,\n",
    "    'Venus':   0.723 * u.au,\n",
    "    'Earth':   1.000 * u.au,  # Definición de la unidad astronómica\n",
    "    'Mars':    1.524 * u.au,\n",
    "    'Jupiter': 5.203 * u.au,\n",
    "    'Saturn':  9.537 * u.au,\n",
    "    'Uranus': 19.191 * u.au,\n",
    "    'Neptune':30.069 * u.au,\n",
    "    'Pluto':  39.482 * u.au  # (Planeta enano)\n",
    "}"
   ]
  },
  {
   "cell_type": "code",
   "execution_count": 41,
   "id": "aa52e339",
   "metadata": {},
   "outputs": [
    {
     "name": "stdout",
     "output_type": "stream",
     "text": [
      "Periodos orbitales de los planetas del sistema solar en años:\n",
      "Periodo orbital de Mercurio: 0.24075463109786602 yr \n",
      "Periodo orbital de Venus: 0.6147742211467803 yr \n",
      "Periodo orbital de la Tierra: 1.0000188867461788 yr \n",
      "Periodo orbital de Marte: 1.8814195514387937 yr \n",
      "Periodo orbital de Júpiter: 11.868311629305916 yr \n",
      "Periodo orbital de Saturno: 29.45275171170832 yr \n",
      "Periodo orbital de Urano: 84.07262555758882 yr \n",
      "Periodo orbital de Neptuno: 164.88710005910107 yr \n",
      "Periodo orbital de Plutón: 248.08866299094632 yr\n"
     ]
    }
   ],
   "source": [
    "print(\"Periodos orbitales de los planetas del sistema solar en años:\")\n",
    "print(\"Periodo orbital de Mercurio:\", (2 * pi * (distances['Mercury']**3 / (const.G * const.M_sun))**0.5).to(u.yr),\n",
    "\"\\n\"\"Periodo orbital de Venus:\", (2 * pi * (distances['Venus']**3 / (const.G * const.M_sun))**0.5).to(u.yr),\n",
    "\"\\n\"\"Periodo orbital de la Tierra:\", (2 * pi * (distances['Earth']**3 / (const.G * const.M_sun))**0.5).to(u.yr),\n",
    "\"\\n\"\"Periodo orbital de Marte:\", (2 * pi * (distances['Mars']**3 / (const.G * const.M_sun))**0.5).to(u.yr),\n",
    "\"\\n\"\"Periodo orbital de Júpiter:\", (2 * pi * (distances['Jupiter']**3 / (const.G * const.M_sun))**0.5).to(u.yr),\n",
    "\"\\n\"\"Periodo orbital de Saturno:\", (2 * pi * (distances['Saturn']**3 / (const.G * const.M_sun))**0.5).to(u.yr),\n",
    "\"\\n\"\"Periodo orbital de Urano:\", (2 * pi * (distances['Uranus']**3 / (const.G * const.M_sun))**0.5).to(u.yr),\n",
    "\"\\n\"\"Periodo orbital de Neptuno:\", (2 * pi * (distances['Neptune']**3 / (const.G * const.M_sun))**0.5).to(u.yr),\n",
    "\"\\n\"\"Periodo orbital de Plutón:\", (2 * pi * (distances['Pluto']**3 / (const.G * const.M_sun))**0.5).to(u.yr))"
   ]
  },
  {
   "cell_type": "code",
   "execution_count": 42,
   "id": "daa00d29",
   "metadata": {},
   "outputs": [
    {
     "name": "stdout",
     "output_type": "stream",
     "text": [
      "Periodos orbitales de los planetas del sistema solar en segundos:\n",
      "Periodo orbital de Mercurio: 7597638.346334018 s \n",
      "Periodo orbital de Venus: 19400798.961261634 s \n",
      "Periodo orbital de la Tierra: 31558196.020381216 s \n",
      "Periodo orbital de Marte: 59373085.636484884 s \n",
      "Periodo orbital de Júpiter: 374535431.0729844 s \n",
      "Periodo orbital de Saturno: 929458157.4174064 s \n",
      "Periodo orbital de Urano: 2653130288.296165 s \n",
      "Periodo orbital de Neptuno: 5203441148.8250885 s \n",
      "Periodo orbital de Plutón: 7829082791.203089 s\n"
     ]
    }
   ],
   "source": [
    "print(\"Periodos orbitales de los planetas del sistema solar en segundos:\")\n",
    "print(\"Periodo orbital de Mercurio:\", (2 * pi * (distances['Mercury']**3 / (const.G * const.M_sun))**0.5).to(u.s),\n",
    "\"\\n\"\"Periodo orbital de Venus:\", (2 * pi * (distances['Venus']**3 / (const.G * const.M_sun))**0.5).to(u.s),\n",
    "\"\\n\"\"Periodo orbital de la Tierra:\", (2 * pi * (distances['Earth']**3 / (const.G * const.M_sun))**0.5).to(u.s),\n",
    "\"\\n\"\"Periodo orbital de Marte:\", (2 * pi * (distances['Mars']**3 / (const.G * const.M_sun))**0.5).to(u.s),\n",
    "\"\\n\"\"Periodo orbital de Júpiter:\", (2 * pi * (distances['Jupiter']**3 / (const.G * const.M_sun))**0.5).to(u.s),\n",
    "\"\\n\"\"Periodo orbital de Saturno:\", (2 * pi * (distances['Saturn']**3 / (const.G * const.M_sun))**0.5).to(u.s),\n",
    "\"\\n\"\"Periodo orbital de Urano:\", (2 * pi * (distances['Uranus']**3 / (const.G * const.M_sun))**0.5).to(u.s),\n",
    "\"\\n\"\"Periodo orbital de Neptuno:\", (2 * pi * (distances['Neptune']**3 / (const.G * const.M_sun))**0.5).to(u.s),\n",
    "\"\\n\"\"Periodo orbital de Plutón:\", (2 * pi * (distances['Pluto']**3 / (const.G * const.M_sun))**0.5).to(u.s))"
   ]
  },
  {
   "cell_type": "code",
   "execution_count": 43,
   "id": "2f2314e2",
   "metadata": {
    "scrolled": true
   },
   "outputs": [
    {
     "name": "stdout",
     "output_type": "stream",
     "text": [
      "Júpiter está a 5.203 AU del Sol\n",
      "= 7.784e+08 km km\n",
      "= 8.227e-05 lyr años luz\n"
     ]
    }
   ],
   "source": [
    "# Distancia de Júpiter al Sol en km y años luz\n",
    "jupiter_distance_km = distances['Jupiter'].to(u.km)\n",
    "jupiter_distance_ly = distances['Jupiter'].to(u.lyr)  # Años luz\n",
    "\n",
    "print(f\"Júpiter está a {distances['Jupiter']} del Sol\")\n",
    "print(f\"= {jupiter_distance_km:.3e} km\")\n",
    "print(f\"= {jupiter_distance_ly:.3e} años luz\")"
   ]
  },
  {
   "cell_type": "markdown",
   "id": "5d2961b8",
   "metadata": {},
   "source": [
    "## Ejercicio\n",
    "\n",
    "Reescribir las siguientes masas en téminos de masas de la tierra"
   ]
  },
  {
   "cell_type": "code",
   "execution_count": 44,
   "id": "b9e1f69b",
   "metadata": {},
   "outputs": [],
   "source": [
    "# Masas planetarias (NASA/JPL 2021) en kg\n",
    "M_mercury = 3.3011e23 * u.kg\n",
    "M_venus   = 4.8675e24 * u.kg\n",
    "M_mars    = 6.4171e23 * u.kg\n",
    "M_saturn  = 5.6834e26 * u.kg\n",
    "M_uranus  = 8.6810e25 * u.kg\n",
    "M_neptune = 1.0241e26 * u.kg"
   ]
  },
  {
   "cell_type": "code",
   "execution_count": 45,
   "id": "87e115a7",
   "metadata": {},
   "outputs": [],
   "source": [
    "M_earth = const.M_earth"
   ]
  },
  {
   "cell_type": "code",
   "execution_count": 46,
   "id": "f9787e6c",
   "metadata": {},
   "outputs": [],
   "source": [
    "M_mercury = M_mercury / M_earth\n",
    "M_venus   = M_venus / M_earth\n",
    "M_mars    = M_mars / M_earth\n",
    "M_saturn  = M_saturn / M_earth\n",
    "M_uranus  = M_uranus / M_earth\n",
    "M_neptune = M_neptune / M_earth"
   ]
  },
  {
   "cell_type": "code",
   "execution_count": 47,
   "id": "d6c07f8d",
   "metadata": {},
   "outputs": [
    {
     "name": "stdout",
     "output_type": "stream",
     "text": [
      "La masa de mercurio es de 0.05527473562495171 M_e\n",
      "La masa de venus es de 0.8150306735768454 M_e\n",
      "La masa de marte es de 0.10745009420462197 M_e\n",
      "La masa de saturno es de 95.16477309104557 M_e\n",
      "La masa de urano es de 14.535760199939588 M_e\n",
      "La masa de neptuno es de 17.147876996611142 M_e\n"
     ]
    }
   ],
   "source": [
    "print(\"La masa de mercurio es de\", M_mercury, \"M_e\")\n",
    "print(\"La masa de venus es de\", M_venus, \"M_e\")\n",
    "print(\"La masa de marte es de\", M_mars, \"M_e\")  \n",
    "print(\"La masa de saturno es de\", M_saturn, \"M_e\")\n",
    "print(\"La masa de urano es de\", M_uranus, \"M_e\")\n",
    "print(\"La masa de neptuno es de\", M_neptune, \"M_e\")"
   ]
  },
  {
   "cell_type": "markdown",
   "id": "841e1295",
   "metadata": {},
   "source": [
    "## Coordinates"
   ]
  },
  {
   "cell_type": "code",
   "execution_count": 48,
   "id": "1dc51cdc",
   "metadata": {},
   "outputs": [],
   "source": [
    "from astropy.coordinates import SkyCoord"
   ]
  },
  {
   "cell_type": "code",
   "execution_count": 49,
   "id": "df3d26fb",
   "metadata": {},
   "outputs": [],
   "source": [
    "ra= 88.8*u.deg # Ascensión recta\n",
    "dec= 7.4*u.deg # Declinación\n",
    "coord=SkyCoord(ra=ra,dec=dec, frame=\"icrs\") # Coordenadas en el sistema ICRS (similar a J2000)"
   ]
  },
  {
   "cell_type": "code",
   "execution_count": 50,
   "id": "748f3ec7",
   "metadata": {},
   "outputs": [
    {
     "name": "stdout",
     "output_type": "stream",
     "text": [
      "<SkyCoord (ICRS): (ra, dec) in deg\n",
      "    (88.8, 7.4)>\n"
     ]
    }
   ],
   "source": [
    "print(coord)"
   ]
  },
  {
   "cell_type": "code",
   "execution_count": 51,
   "id": "1cd41c32",
   "metadata": {},
   "outputs": [],
   "source": [
    "c=SkyCoord(ra=\"12h34m10s\", dec=\"+19d10m29s\") # Otra forma de definir las coordenadas"
   ]
  },
  {
   "cell_type": "code",
   "execution_count": 52,
   "id": "780d63ee",
   "metadata": {},
   "outputs": [
    {
     "data": {
      "text/latex": [
       "$188^\\circ32{}^\\prime30{}^{\\prime\\prime}$"
      ],
      "text/plain": [
       "<Longitude 188.54166667 deg>"
      ]
     },
     "execution_count": 52,
     "metadata": {},
     "output_type": "execute_result"
    }
   ],
   "source": [
    "c.ra # Ascensión recta en grados"
   ]
  },
  {
   "cell_type": "code",
   "execution_count": 53,
   "id": "34fe0082",
   "metadata": {},
   "outputs": [
    {
     "data": {
      "text/plain": [
       "np.float64(12.569444444444446)"
      ]
     },
     "execution_count": 53,
     "metadata": {},
     "output_type": "execute_result"
    }
   ],
   "source": [
    "c.ra.hour # Ascensión recta en horas"
   ]
  },
  {
   "cell_type": "code",
   "execution_count": 54,
   "id": "1209bf55",
   "metadata": {},
   "outputs": [
    {
     "data": {
      "text/plain": [
       "hms_tuple(h=np.float64(12.0), m=np.float64(34.0), s=np.float64(10.000000000007105))"
      ]
     },
     "execution_count": 54,
     "metadata": {},
     "output_type": "execute_result"
    }
   ],
   "source": [
    "c.ra.hms # Ascensión recta en horas, minutos y segundos"
   ]
  },
  {
   "cell_type": "code",
   "execution_count": 55,
   "id": "896951c9",
   "metadata": {},
   "outputs": [
    {
     "data": {
      "text/latex": [
       "$19^\\circ10{}^\\prime29{}^{\\prime\\prime}$"
      ],
      "text/plain": [
       "<Latitude 19.17472222 deg>"
      ]
     },
     "execution_count": 55,
     "metadata": {},
     "output_type": "execute_result"
    }
   ],
   "source": [
    "c.dec # Declinación en grados"
   ]
  },
  {
   "cell_type": "code",
   "execution_count": 56,
   "id": "fa45cae9",
   "metadata": {},
   "outputs": [
    {
     "data": {
      "text/plain": [
       "np.float64(0.33466203593310156)"
      ]
     },
     "execution_count": 56,
     "metadata": {},
     "output_type": "execute_result"
    }
   ],
   "source": [
    "c.dec.radian # Declinación en radianes"
   ]
  },
  {
   "cell_type": "code",
   "execution_count": 57,
   "id": "7d2d8405",
   "metadata": {},
   "outputs": [],
   "source": [
    "c2=SkyCoord(ra=10.68*u.deg, dec=41.26*u.deg) "
   ]
  },
  {
   "cell_type": "code",
   "execution_count": 58,
   "id": "ea861e5e",
   "metadata": {},
   "outputs": [
    {
     "data": {
      "text/plain": [
       "<SkyCoord (Galactic): (l, b) in deg\n",
       "    (121.17018363, -21.58192434)>"
      ]
     },
     "execution_count": 58,
     "metadata": {},
     "output_type": "execute_result"
    }
   ],
   "source": [
    "c2.galactic"
   ]
  },
  {
   "cell_type": "code",
   "execution_count": 59,
   "id": "3d51c1f5",
   "metadata": {},
   "outputs": [],
   "source": [
    "c2=SkyCoord(ra=10.68*u.deg, dec=41.26*u.deg, distance = 770*u.kpc)"
   ]
  },
  {
   "cell_type": "code",
   "execution_count": 60,
   "id": "2ca26c43",
   "metadata": {},
   "outputs": [
    {
     "data": {
      "text/latex": [
       "$568.80131 \\; \\mathrm{kpc}$"
      ],
      "text/plain": [
       "<Quantity 568.80131157 kpc>"
      ]
     },
     "execution_count": 60,
     "metadata": {},
     "output_type": "execute_result"
    }
   ],
   "source": [
    "c2.cartesian.x # en parsecs"
   ]
  },
  {
   "cell_type": "code",
   "execution_count": 61,
   "id": "0b9f2a0c",
   "metadata": {},
   "outputs": [
    {
     "data": {
      "text/latex": [
       "$107.2705 \\; \\mathrm{kpc}$"
      ],
      "text/plain": [
       "<Quantity 107.27049925 kpc>"
      ]
     },
     "execution_count": 61,
     "metadata": {},
     "output_type": "execute_result"
    }
   ],
   "source": [
    "c2.cartesian.y"
   ]
  },
  {
   "cell_type": "code",
   "execution_count": 62,
   "id": "0f696dfa",
   "metadata": {},
   "outputs": [
    {
     "data": {
      "text/latex": [
       "$507.79731 \\; \\mathrm{kpc}$"
      ],
      "text/plain": [
       "<Quantity 507.79730991 kpc>"
      ]
     },
     "execution_count": 62,
     "metadata": {},
     "output_type": "execute_result"
    }
   ],
   "source": [
    "c2.cartesian.z"
   ]
  },
  {
   "cell_type": "code",
   "execution_count": 63,
   "id": "a8f52855",
   "metadata": {},
   "outputs": [],
   "source": [
    "# Buscar la estrella por nombre (HD124897 es Arturo)\n",
    "estrella = SkyCoord.from_name(\"HD124897\")\n",
    "\n",
    "# Obtener RA y Dec\n",
    "ra = estrella.ra\n",
    "dec = estrella.dec"
   ]
  },
  {
   "cell_type": "code",
   "execution_count": 64,
   "id": "37e17cc2",
   "metadata": {},
   "outputs": [
    {
     "name": "stdout",
     "output_type": "stream",
     "text": [
      "hms_tuple(h=np.float64(14.0), m=np.float64(15.0), s=np.float64(39.67207080001316))\n"
     ]
    }
   ],
   "source": [
    "print(ra.hms)"
   ]
  },
  {
   "cell_type": "markdown",
   "id": "422e686e",
   "metadata": {},
   "source": [
    "## Ejercicio\n",
    "\n",
    "para el siguiente grupo de estrellas realice la transformada de coordenadas a Galacticas y Azimutales (para un observador en Bogotá y en el día y hora de realización de este taller).\n",
    "\n",
    "* HD 124897 (Arcturus, tercera estrella mas brillante; 36.7 AL)\n",
    "* HD 129357 (Estrella tipo G como el Sol; 154 AL)\n",
    "* HD 164595 (Estrella tipo G como el Sol; 94.4 AL)\n",
    "* HIP 16537 (Epsilon Eridani, décima estrella más cercana; 10.5 AL)\n",
    "* HIP 87937 (Barnard, segunda estrella más cercana; 5.96 AL)"
   ]
  },
  {
   "cell_type": "code",
   "execution_count": 65,
   "id": "8943b2ab",
   "metadata": {},
   "outputs": [],
   "source": [
    "from astropy.time import Time\n",
    "from astropy.coordinates import EarthLocation, AltAz"
   ]
  },
  {
   "cell_type": "code",
   "execution_count": 66,
   "id": "a1db0ad0",
   "metadata": {},
   "outputs": [
    {
     "name": "stdout",
     "output_type": "stream",
     "text": [
      "<SkyCoord (ICRS): (ra, dec) in deg\n",
      "    (213.9153003, 19.18240916)>\n",
      "213d54m55.081062s\n",
      "19d10m56.6729832s\n",
      "<SkyCoord (Galactic): (l, b) in deg\n",
      "    (15.05005923, 69.11129459)>\n",
      "69d06m40.66052742s\n",
      "15d03m00.213224s\n",
      "<SkyCoord (AltAz: obstime=2025-09-06 15:00:00.000, location=(1744590.1998843383, -6116327.524300839, 509420.78724300175) m, pressure=0.0 hPa, temperature=0.0 deg_C, relative_humidity=0.0, obswl=1.0 micron): (az, alt) in deg\n",
      "    (71.47828942, 13.46028053)>\n",
      "13d27m37.00989864s\n",
      "71d28m41.84192696s\n"
     ]
    }
   ],
   "source": [
    "Arcturus = SkyCoord.from_name(\"HD 124897\")\n",
    "print(Arcturus)\n",
    "# Obtener RA y Dec\n",
    "ra = Arcturus.ra\n",
    "dec = Arcturus.dec\n",
    "print(ra)\n",
    "print(dec)\n",
    "\n",
    "# Coordenadas galácticas\n",
    "galactic = Arcturus.galactic\n",
    "print(galactic)\n",
    "b = Arcturus.galactic.b\n",
    "l = Arcturus.galactic.l\n",
    "print(b)\n",
    "print(l)\n",
    "\n",
    "# Coordenadas azimutales\n",
    "Bogota = EarthLocation(lat=4.61*u.deg, lon=-74.08*u.deg, height=2640*u.m)\n",
    "time = Time(\"2025-09-06 15:00:00\") # Fecha y hora \n",
    "\n",
    "altaz = AltAz(obstime=time, location=Bogota)\n",
    "print(Arcturus.transform_to(altaz))\n",
    "Alt = Arcturus.transform_to(altaz).alt\n",
    "Az = Arcturus.transform_to(altaz).az\n",
    "print(Alt)\n",
    "print(Az)"
   ]
  },
  {
   "cell_type": "code",
   "execution_count": 67,
   "id": "87f9ca18",
   "metadata": {},
   "outputs": [
    {
     "name": "stdout",
     "output_type": "stream",
     "text": [
      "<SkyCoord (ICRS): (ra, dec) in deg\n",
      "    (220.34333853, 29.05880479)>\n",
      "220d20m36.01871786s\n",
      "29d03m31.69724926s\n",
      "<SkyCoord (Galactic): (l, b) in deg\n",
      "    (43.96722019, 65.73196886)>\n",
      "65d43m55.08791244s\n",
      "43d58m01.99269759s\n",
      "<SkyCoord (AltAz: obstime=2025-09-06 15:00:00.000, location=(1744590.1998843383, -6116327.524300839, 509420.78724300175) m, pressure=0.0 hPa, temperature=0.0 deg_C, relative_humidity=0.0, obswl=1.0 micron): (az, alt) in deg\n",
      "    (61.3692066, 7.69963737)>\n",
      "7d41m58.69452678s\n",
      "61d22m09.14374785s\n"
     ]
    }
   ],
   "source": [
    "Estrella2 = SkyCoord.from_name(\"HD 129357\")\n",
    "print(Estrella2)\n",
    "#Obtener RA y Dec\n",
    "ra = Estrella2.ra\n",
    "dec = Estrella2.dec\n",
    "print(ra)\n",
    "print(dec)\n",
    "\n",
    "#Coordenadas galácticas\n",
    "print(Estrella2.galactic)\n",
    "b = Estrella2.galactic.b\n",
    "l = Estrella2.galactic.l\n",
    "print(b)\n",
    "print(l)\n",
    "\n",
    "#Coordenadas azimutales\n",
    "print(Estrella2.transform_to(altaz))\n",
    "Alt = Estrella2.transform_to(altaz).alt\n",
    "Az = Estrella2.transform_to(altaz).az\n",
    "print(Alt)\n",
    "print(Az)\n"
   ]
  },
  {
   "cell_type": "code",
   "execution_count": 68,
   "id": "6fa58966",
   "metadata": {},
   "outputs": [
    {
     "name": "stdout",
     "output_type": "stream",
     "text": [
      "<SkyCoord (ICRS): (ra, dec) in deg\n",
      "    (270.16206038, 29.57192273)>\n",
      "270d09m43.41737347s\n",
      "29d34m18.92182904s\n",
      "<SkyCoord (Galactic): (l, b) in deg\n",
      "    (55.46685125, 23.27684486)>\n",
      "23d16m36.64148849s\n",
      "55d28m00.66449801s\n",
      "<SkyCoord (AltAz: obstime=2025-09-06 15:00:00.000, location=(1744590.1998843383, -6116327.524300839, 509420.78724300175) m, pressure=0.0 hPa, temperature=0.0 deg_C, relative_humidity=0.0, obswl=1.0 micron): (az, alt) in deg\n",
      "    (49.41595303, -33.87959353)>\n",
      "-33d52m46.53670433s\n",
      "49d24m57.43089407s\n"
     ]
    }
   ],
   "source": [
    "Estrella3 = SkyCoord.from_name(\"HD 164595\")\n",
    "print(Estrella3)\n",
    "#Obtener RA y Dec\n",
    "ra = Estrella3.ra\n",
    "dec = Estrella3.dec\n",
    "print(ra)\n",
    "print(dec)\n",
    "\n",
    "#Coordenadas galácticas\n",
    "print(Estrella3.galactic)\n",
    "b = Estrella3.galactic.b\n",
    "l = Estrella3.galactic.l\n",
    "print(b)\n",
    "print(l)\n",
    "\n",
    "#Coordenadas azimutales\n",
    "Estrella3.transform_to(altaz)\n",
    "print(Estrella3.transform_to(altaz))\n",
    "Alt = Estrella3.transform_to(altaz).alt\n",
    "Az = Estrella3.transform_to(altaz).az\n",
    "print(Alt)\n",
    "print(Az)"
   ]
  },
  {
   "cell_type": "code",
   "execution_count": 69,
   "id": "3a6f689d",
   "metadata": {},
   "outputs": [
    {
     "name": "stdout",
     "output_type": "stream",
     "text": [
      "<SkyCoord (ICRS): (ra, dec) in deg\n",
      "    (53.23268538, -9.45826097)>\n",
      "53d13m57.66736738s\n",
      "-9d27m29.73949387s\n",
      "<SkyCoord (Galactic): (l, b) in deg\n",
      "    (195.84464069, -48.05129995)>\n",
      "-48d03m04.6798288s\n",
      "195d50m40.70648363s\n",
      "<SkyCoord (AltAz: obstime=2025-09-06 15:00:00.000, location=(1744590.1998843383, -6116327.524300839, 509420.78724300175) m, pressure=0.0 hPa, temperature=0.0 deg_C, relative_humidity=0.0, obswl=1.0 micron): (az, alt) in deg\n",
      "    (260.076421, 5.80357843)>\n",
      "5d48m12.88233156s\n",
      "260d04m35.11561504s\n"
     ]
    }
   ],
   "source": [
    "Epsilon_Eridani = SkyCoord.from_name(\"HIP 16537\")\n",
    "print(Epsilon_Eridani)\n",
    "#Obtener RA y Dec\n",
    "ra = Epsilon_Eridani.ra\n",
    "dec = Epsilon_Eridani.dec\n",
    "print(ra)\n",
    "print(dec)\n",
    "\n",
    "\n",
    "#Coordenadas galácticas\n",
    "print(Epsilon_Eridani.galactic)\n",
    "b = Epsilon_Eridani.galactic.b\n",
    "l = Epsilon_Eridani.galactic.l\n",
    "print(b)\n",
    "print(l)\n",
    "\n",
    "#Coordenadas azimutales\n",
    "Epsilon_Eridani.transform_to(altaz)\n",
    "print(Epsilon_Eridani.transform_to(altaz))\n",
    "Alt = Epsilon_Eridani.transform_to(altaz).alt\n",
    "Az = Epsilon_Eridani.transform_to(altaz).az\n",
    "print(Alt)\n",
    "print(Az)"
   ]
  },
  {
   "cell_type": "code",
   "execution_count": 70,
   "id": "c1b34241",
   "metadata": {},
   "outputs": [
    {
     "name": "stdout",
     "output_type": "stream",
     "text": [
      "<SkyCoord (ICRS): (ra, dec) in deg\n",
      "    (269.45207696, 4.69336497)>\n",
      "269d27m07.477056s\n",
      "4d41m36.113892s\n",
      "<SkyCoord (Galactic): (l, b) in deg\n",
      "    (31.00870272, 14.06265102)>\n",
      "14d03m45.54365465s\n",
      "31d00m31.32979767s\n",
      "<SkyCoord (AltAz: obstime=2025-09-06 15:00:00.000, location=(1744590.1998843383, -6116327.524300839, 509420.78724300175) m, pressure=0.0 hPa, temperature=0.0 deg_C, relative_humidity=0.0, obswl=1.0 micron): (az, alt) in deg\n",
      "    (79.44408145, -42.03589385)>\n",
      "-42d02m09.21785221s\n",
      "79d26m38.69321754s\n"
     ]
    }
   ],
   "source": [
    "Barnard = SkyCoord.from_name(\"HIP 87937\")\n",
    "print(Barnard)\n",
    "#Obtener RA y Dec\n",
    "ra = Barnard.ra\n",
    "dec = Barnard.dec\n",
    "print(ra)\n",
    "print(dec)\n",
    "\n",
    "#Coordenadas galácticas\n",
    "print(Barnard.galactic)\n",
    "b = Barnard.galactic.b\n",
    "l = Barnard.galactic.l\n",
    "print(b)\n",
    "print(l)\n",
    "\n",
    "#Coordenadas azimutales\n",
    "Barnard.transform_to(altaz)\n",
    "print(Barnard.transform_to(altaz))\n",
    "Alt = Barnard.transform_to(altaz).alt\n",
    "Az = Barnard.transform_to(altaz).az\n",
    "print(Alt)\n",
    "print(Az)"
   ]
  },
  {
   "cell_type": "code",
   "execution_count": 71,
   "id": "835bba7b",
   "metadata": {},
   "outputs": [
    {
     "name": "stdout",
     "output_type": "stream",
     "text": [
      "\n",
      "HD 124897\n",
      "RA/Dec: 213d54m55.081062s 19d10m56.6729832s\n",
      "Galácticas: <SkyCoord (Galactic): (l, b) in deg\n",
      "    (15.05005923, 69.11129459)>\n",
      "Alt/Az Bogotá: 13d27m37.00989864s 71d28m41.84192696s\n",
      "\n",
      "HD 129357\n",
      "RA/Dec: 220d20m36.01871786s 29d03m31.69724926s\n",
      "Galácticas: <SkyCoord (Galactic): (l, b) in deg\n",
      "    (43.96722019, 65.73196886)>\n",
      "Alt/Az Bogotá: 7d41m58.69452678s 61d22m09.14374785s\n",
      "\n",
      "HD 164595\n",
      "RA/Dec: 270d09m43.41737347s 29d34m18.92182904s\n",
      "Galácticas: <SkyCoord (Galactic): (l, b) in deg\n",
      "    (55.46685125, 23.27684486)>\n",
      "Alt/Az Bogotá: -33d52m46.53670433s 49d24m57.43089407s\n",
      "\n",
      "HIP 16537\n",
      "RA/Dec: 53d13m57.66736738s -9d27m29.73949387s\n",
      "Galácticas: <SkyCoord (Galactic): (l, b) in deg\n",
      "    (195.84464069, -48.05129995)>\n",
      "Alt/Az Bogotá: 5d48m12.88233156s 260d04m35.11561504s\n",
      "\n",
      "HIP 87937\n",
      "RA/Dec: 269d27m07.477056s 4d41m36.113892s\n",
      "Galácticas: <SkyCoord (Galactic): (l, b) in deg\n",
      "    (31.00870272, 14.06265102)>\n",
      "Alt/Az Bogotá: -42d02m09.21785221s 79d26m38.69321754s\n"
     ]
    }
   ],
   "source": [
    "from astropy import units as u\n",
    "from astropy.coordinates import SkyCoord, EarthLocation, AltAz\n",
    "from astropy.time import Time\n",
    "\n",
    "Bogota = EarthLocation(lat=4.61*u.deg, lon=-74.08*u.deg, height=2640*u.m)\n",
    "time = Time(\"2025-09-06 15:00:00\")\n",
    "\n",
    "stars = [\n",
    "    \"HD 124897\",  # Arcturus\n",
    "    \"HD 129357\",\n",
    "    \"HD 164595\",\n",
    "    \"HIP 16537\",  # Epsilon Eridani\n",
    "    \"HIP 87937\"   # Barnard\n",
    "]\n",
    "\n",
    "for name in stars:\n",
    "    s = SkyCoord.from_name(name)\n",
    "    print(f\"\\n{name}\")\n",
    "    print(\"RA/Dec:\", s.ra, s.dec)\n",
    "    print(\"Galácticas:\", s.galactic)\n",
    "    altaz = s.transform_to(AltAz(obstime=time, location=Bogota))\n",
    "    print(\"Alt/Az Bogotá:\", altaz.alt, altaz.az)"
   ]
  }
 ],
 "metadata": {
  "kernelspec": {
   "display_name": "Python 3",
   "language": "python",
   "name": "python3"
  },
  "language_info": {
   "codemirror_mode": {
    "name": "ipython",
    "version": 3
   },
   "file_extension": ".py",
   "mimetype": "text/x-python",
   "name": "python",
   "nbconvert_exporter": "python",
   "pygments_lexer": "ipython3",
   "version": "3.12.10"
  }
 },
 "nbformat": 4,
 "nbformat_minor": 5
}
